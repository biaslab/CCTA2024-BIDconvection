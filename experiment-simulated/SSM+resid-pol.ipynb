{
 "cells": [
  {
   "cell_type": "markdown",
   "metadata": {},
   "source": [
    "# Grey-box identification of heat transfer dynamics\n",
    "\n",
    "Last update: 01-07-2024\n",
    "\n",
    "---\n",
    "\n",
    "The primary goal of this project is to identify convection effects in a grey-box model of heat transfer dynamics (see system description below), based on temperature measurements throughout the rod."
   ]
  },
  {
   "cell_type": "code",
   "execution_count": null,
   "metadata": {},
   "outputs": [],
   "source": [
    "import Pkg\n",
    "Pkg.activate(\"..\")\n",
    "Pkg.instantiate()"
   ]
  },
  {
   "cell_type": "markdown",
   "metadata": {},
   "source": [
    "## System description\n",
    "\n",
    "A schematic depiction of the setup is shown in the figure below. \n",
    "\n",
    "<p><center><img src='../system/system-photo.png'/></center></p>\n",
    "\n",
    "In short, the setup consists of 3 metal blocks which have been lined up, with resistive nylon pads interposed. The temperature can be measured using thermistors at arbitrary places on the setup; for simplicity we assume that we measure the temperature at a single spot on each block, which we call $\\tau_1$, $\\tau_2$, and $\\tau_3$. The temperatures will evolve due to a number of different factors; we will only consider the influence of conduction, convection, radiation, and the user controlled input heat (band heaters).\n",
    "\n",
    "By assuming that conduction within blocks is so fast that there are no temperature differences within a block, we may model the system using a [lumped-element model](https://en.wikipedia.org/wiki/Lumped-element_model), governed by the following system of ODEs:\n",
    "\n",
    "$$\\frac{d}{dt}\\begin{pmatrix} m_1 c_{p, 1} \\tau_1 \\\\ m_2 c_{p, 2} \\tau_2 \\\\ m_3 c_{p, 3} \\tau_3 \\end{pmatrix} = \n",
    "\\underbrace{\\begin{pmatrix} -k_{12} & k_{12} & 0 \\\\ k_{12} & -(k_{12} + k_{23}) & k_{23} \\\\ 0 & k_{23} & -k_{23} \\end{pmatrix} \\begin{pmatrix} \\tau_1 \\\\ \\tau_2 \\\\ \\tau_3 \\end{pmatrix}}_{\\textrm{conduction}} + \\underbrace{\\begin{pmatrix} h(\\tau_1, \\tau_a, 1, t) \\\\ h(\\tau_2, \\tau_a, 2, t) \\\\ h(\\tau_3, \\tau_a, 3, t) \\end{pmatrix}}_{\\textrm{convection}} + \\underbrace{\\sigma \\begin{pmatrix} a_1 \\varepsilon_1 (\\tau_a^4 - \\tau_1^4) \\\\ a_2 \\varepsilon_2 (\\tau_a^4 - \\tau_2^4) \\\\ a_3 \\varepsilon_3 (\\tau_a^4 - \\tau_3^4) \\end{pmatrix}}_{\\textrm{radiation}} + \\underbrace{\\begin{pmatrix} u_1 \\\\ u_2 \\\\ u_3 \\end{pmatrix}}_{\\textrm{input}}.$$\n",
    "\n",
    "Convection is notoriously hard to model. A coarse approximation would be Newton's law of cooling (Clercx, 2015; Eq. 8.17), which states that convection is linear in the difference between the temperature of the block and the ambient temperature: $h_a (\\tau_a - \\tau_i)$. With this linear term, we can take steps similar to the identification of the oscillator in Rogers \\& Friis (2022), describing the nonlinear function as the combination of a linear term and a \"nonlinear remainder\":\n",
    "\n",
    "$$\\underbrace{h(\\tau_i, \\tau_a, i, t)}_{\\text{total convection}} = \\underbrace{h_a (\\tau_a - \\tau_i)}_{\\text{linear cooling law}} + \\underbrace{r(\\tau_i, \\tau_a, i, t)}_{\\text{nonlinear remainder}} \\, ,$$\n",
    "\n",
    "for some constant $h_a$. Furthermore, the role of radiation can often be neglected. With these simplifications, our governing equations become:\n",
    "\n",
    "$$\\frac{d}{dt}\\begin{pmatrix} m_1 c_{p, 1} \\tau_1 \\\\ m_2 c_{p, 2} \\tau_2 \\\\ m_3 c_{p, 3} \\tau_3 \\end{pmatrix} = \n",
    "\\begin{pmatrix} -k_{12} & k_{12} & 0 \\\\ k_{12} & -(k_{12} + k_{23}) & k_{23} \\\\ 0 & k_{23} & -k_{23} \\end{pmatrix} \\begin{pmatrix} \\tau_1 \\\\ \\tau_2 \\\\ \\tau_3 \\end{pmatrix} + h_a \\begin{pmatrix} a_1 (\\tau_a - \\tau_1) \\\\ a_2 (\\tau_a - \\tau_2) \\\\ a_3 (\\tau_a - \\tau_3) \\end{pmatrix} + \\begin{pmatrix} r(\\tau_1, \\tau_a, 1, t) \\\\ r(\\tau_2, \\tau_a, 2, t) \\\\ r(\\tau_3, \\tau_a, 3, t) \\end{pmatrix} + \\begin{pmatrix} u_1 \\\\ u_2 \\\\ u_3 \\end{pmatrix},$$\n",
    "\n",
    "or, more compactly, \n",
    "\n",
    "$$ M \\dot{z} = K z + h_a a (\\tau_a - z) + r(z,\\tau_a) + u$$\n",
    "\n",
    "where $z = [\\tau_1 \\, , \\ \\tau_2 \\, , \\ \\tau_3]$.\n",
    "\n",
    "In these equations, we can distinguish three types of quantities:\n",
    "1. Measured/observed quantities: e.g. $\\tau_i$, $u_i$. These may vary over time, and are known up to a given accuracy due to measurement noise;\n",
    "\n",
    "2. Known constants: e.g. $m_i$, $c_{p, i}$, $a$, $\\tau_a$. These are fully known, and are constant over time. This is reasonable for quantities such as mass $m$ and surface area $a$ (which can be easily measured) and specific heat capacity $c_p$ (which is a material property which according to the Dulong-Petit Law is roughly constant for metals over a long range of temperatures Carter (2000), Ch. 16) Maybe it is less reasonable for the ambient temperature $\\tau_a$ (due to e.g. the setup heating up its surroundings);\n",
    "\n",
    "3. Unknown constants: e.g. $k_{ij}$, $h_a$. These are not known a priori, because there is no simple physical way to measure or derive their values. For example, the conduction coefficients $k_{ij}$ can vary depending on how tightly the blocks have been put together. In this project, we want to identify these constants using Bayesian inference."
   ]
  },
  {
   "cell_type": "code",
   "execution_count": null,
   "metadata": {},
   "outputs": [],
   "source": [
    "using Revise\n",
    "using DifferentialEquations\n",
    "using Distributions\n",
    "using ForwardDiff\n",
    "using LaTeXStrings\n",
    "using LinearAlgebra\n",
    "using JLD2\n",
    "using Optim\n",
    "using Polynomials\n",
    "using Random\n",
    "using RxInfer\n",
    "using Plots; \n",
    "default(label=\"\", linewidth=3, margin=15Plots.pt)\n",
    "\n",
    "include(\"../util/discretization.jl\");\n",
    "include(\"../util/heat-input.jl\");"
   ]
  },
  {
   "cell_type": "markdown",
   "metadata": {},
   "source": [
    "## Data simulation"
   ]
  },
  {
   "cell_type": "code",
   "execution_count": null,
   "metadata": {},
   "outputs": [],
   "source": [
    "# Time parameters\n",
    "T = 1000\n",
    "Δt = 1.0\n",
    "tsteps = range(1e-3, step=Δt, length=T)\n",
    "\n",
    "# Constants\n",
    "true_mcp_1 = 1e3\n",
    "true_mcp_2 = 1e3\n",
    "true_mcp_3 = 1e3\n",
    "true_a_1 = 1.0\n",
    "true_a_2 = 1.0\n",
    "true_a_3 = 1.0\n",
    "true_k12 = 10.\n",
    "true_k23 = 10.\n",
    "true_h_a = 2.0\n",
    "true_τ_a = 21.\n",
    "true_R   = 1e-3*diagm(ones(3))\n",
    "\n",
    "# Input heat parameters\n",
    "true_b = [100.0, 0., 0.];"
   ]
  },
  {
   "cell_type": "code",
   "execution_count": null,
   "metadata": {},
   "outputs": [],
   "source": [
    "function T_a(t::Float64, t_on::Float64, t_off::Float64)\n",
    "    return 21 - 5 ./(1+exp(-0.04*(t - t_on))) * exp(-0.05*(t - t_off))./(1+exp(-0.05*(t - t_off)))\n",
    "end\n",
    "\n",
    "function T_a(t::Float64)\n",
    "    return true_τ_a\n",
    "end\n",
    "\n",
    "plot(tsteps, T_a.(tsteps))"
   ]
  },
  {
   "cell_type": "code",
   "execution_count": null,
   "metadata": {},
   "outputs": [],
   "source": [
    "# Nonlinear convection function\n",
    "r(z,τ_a) = (τ_a - z)^3 ./ 100\n",
    "\n",
    "τr = range(0., stop=50, step=0.1)\n",
    "dτr = r.(τr,true_τ_a)\n",
    "\n",
    "plot(xlabel=\"temperature [C]\", ylabel=\"change in temperature [ΔC]\", size=(800,300))\n",
    "plot!(τr, dτr)"
   ]
  },
  {
   "cell_type": "code",
   "execution_count": null,
   "metadata": {},
   "outputs": [],
   "source": [
    "t_onset = 100.\n",
    "t_offset = 300.\n",
    "β = 0.5\n",
    "\n",
    "# Generate functions\n",
    "u1(t) = u.(t, true_b[1], t_onset, i=1, β=β)\n",
    "u2(t) = u.(t, true_b[2], t_onset, i=2, β=β)\n",
    "u3(t) = u.(t, true_b[3], t_onset, i=3, β=β)\n",
    "  \n",
    "inputs = hcat([[u1(k); u2(k); u3(k)] for k in tsteps]...)\n",
    "\n",
    "plot(tsteps, inputs')"
   ]
  },
  {
   "cell_type": "code",
   "execution_count": null,
   "metadata": {},
   "outputs": [],
   "source": [
    "function NONLCONV(dz, z, params, t)\n",
    "    \"Lumped-element model with nonlinear convection term\"\n",
    "\n",
    "    # Extract parameters\n",
    "    mcp_1, mcp_2, mcp_3, a_1, a_2, a_3, k12, k23, h_a = params\n",
    "    \n",
    "    # Conduction\n",
    "    dz[1] = (-k12*z[1] +      k12 *z[2]            ) / mcp_1\n",
    "    dz[2] = ( k12*z[1] - (k12+k23)*z[2] + k23 *z[3]) / mcp_2\n",
    "    dz[3] = (                 k23 *z[2] - k23 *z[3]) / mcp_3\n",
    "    \n",
    "    # Convection - linear\n",
    "    dz[1] += h_a * a_1 * (T_a(t) - z[1]) / mcp_1\n",
    "    dz[2] += h_a * a_2 * (T_a(t) - z[2]) / mcp_2\n",
    "    dz[3] += h_a * a_3 * (T_a(t) - z[3]) / mcp_3 \n",
    "    \n",
    "    # Convection - nonlinear\n",
    "    dz[1] += r(z[1],T_a(t)) / mcp_1\n",
    "    dz[2] += r(z[2],T_a(t)) / mcp_2\n",
    "    dz[3] += r(z[3],T_a(t)) / mcp_3\n",
    "    \n",
    "    # Input heat\n",
    "    dz[1] += u1(t) / mcp_1\n",
    "    dz[2] += u2(t) / mcp_2\n",
    "    dz[3] += u3(t) / mcp_3\n",
    "end"
   ]
  },
  {
   "cell_type": "code",
   "execution_count": null,
   "metadata": {},
   "outputs": [],
   "source": [
    "sysparams = [true_mcp_1, \n",
    "             true_mcp_2, \n",
    "             true_mcp_3, \n",
    "             true_a_1, \n",
    "             true_a_2, \n",
    "             true_a_3,\n",
    "             true_k12, \n",
    "             true_k23, \n",
    "             true_h_a]\n",
    "\n",
    "τ_0 = [21., 21., 21.]\n",
    "\n",
    "# Solve the system numerically using DifferentialEquations.jl\n",
    "sys_NONLCONV = ODEProblem(NONLCONV, τ_0, (tsteps[1], tsteps[end]), sysparams)\n",
    "states = Array(solve(sys_NONLCONV, RK4(); saveat=tsteps, verbose = true))\n",
    "\n",
    "# Noisy measurements\n",
    "measurements = zeros(3,T)\n",
    "for k = 1:T\n",
    "    measurements[:,k] = states[:,k] + cholesky(true_R).L*randn(3)\n",
    "end\n",
    "\n",
    "p101 = plot(xlabel=\"\", ylabel=\"temperature [C]\")\n",
    "plot!(tsteps, states', linecolors = [\"red\" \"blue\" \"orange\"], labels = [L\"$τ_1$ true\" L\"$τ_2$ true\" L\"$τ_3$ true\"], )\n",
    "plot!(tsteps, T_a.(tsteps), color=\"black\", linewidth=3, linestyle=:dot, label=\"ambient temp τ_a\")\n",
    "\n",
    "p102 = plot(xlabel = \"time [s]\", ylabel = \"input [W]\")\n",
    "plot!(tsteps, inputs', linecolors = [\"red\" \"blue\" \"orange\"], labels = [L\"$u_1$\" L\"$u_2$\" L\"$u_3$\"], )\n",
    "\n",
    "plot(p101, p102, layout=grid(2,1, heights=[0.8, 0.2]), size=(500,300))"
   ]
  },
  {
   "cell_type": "code",
   "execution_count": null,
   "metadata": {},
   "outputs": [],
   "source": [
    "output_ = [measurements[:,k] for k in 1:T];\n",
    "inputs_ = [[true_τ_a; inputs[:,k]] for k in 1:T];"
   ]
  },
  {
   "cell_type": "code",
   "execution_count": null,
   "metadata": {},
   "outputs": [],
   "source": [
    "@model function SSM(y,u, A, B, C, Q, R, m0, S0, T)\n",
    "    \n",
    "    x_0 ~ MvNormalMeanCovariance(m0, S0)\n",
    "    x_kmin1 = x_0\n",
    "    for k = 1:T\n",
    "        \n",
    "        x[k] ~ MvNormalMeanCovariance(A*x_kmin1 + B*u[k], Q)\n",
    "        y[k] ~ MvNormalMeanCovariance(C*x[k], R)\n",
    "        \n",
    "        x_kmin1 = x[k]\n",
    "    end\n",
    "end"
   ]
  },
  {
   "cell_type": "code",
   "execution_count": null,
   "metadata": {},
   "outputs": [],
   "source": [
    "Dx = 3\n",
    "Du = 4\n",
    "Dy = 3\n",
    "\n",
    "M  = [true_mcp_1          0           0;\n",
    "     0           true_mcp_2           0;\n",
    "     0                    0  true_mcp_3]\n",
    "K  = [-true_k12       true_k12                0;\n",
    "       true_k12  -(true_k12+true_k23)  true_k23;\n",
    "              0       true_k23        -true_k23]\n",
    "An = [true_a_1, true_a_2, true_a_3]\n",
    "\n",
    "F  = inv(M)*(K - true_h_a*diagm(An))\n",
    "G  = inv(M)*[true_h_a*An diagm(ones(Dx))]\n",
    "\n",
    "λ_star = 1000.\n",
    "γ_star = 50.\n",
    "\n",
    "A  = exp(F*Δt)\n",
    "B  = G*Δt\n",
    "C  = diagm(ones(Dy))\n",
    "Q  = 1e-8*diagm(ones(Dx))\n",
    "R  = true_R*diagm(ones(Dy))\n",
    "\n",
    "m0 = τ_0\n",
    "S0 = diagm(ones(Dx))\n",
    "\n",
    "results = infer(\n",
    "    model       = SSM(A=A, B=B, C=C, Q=Q, R=R, m0=m0, S0=S0, T=T),\n",
    "    data        = (y = output_, u = inputs_),\n",
    "    options     = (limit_stack_depth = 100,),\n",
    "    free_energy = true,\n",
    ")"
   ]
  },
  {
   "cell_type": "code",
   "execution_count": null,
   "metadata": {},
   "outputs": [],
   "source": [
    "qx = results.posteriors[:x]\n",
    "fitx_v = cat( var.(qx)..., dims=2)\n",
    "fitx_m = cat(mean.(qx)..., dims=2)"
   ]
  },
  {
   "cell_type": "code",
   "execution_count": null,
   "metadata": {},
   "outputs": [],
   "source": [
    "SMSE_GPSSM = mean((fitx_m[1:3,:] - states).^2)\n",
    "println(\"MSE states and fit: $SMSE_GPSSM\")"
   ]
  },
  {
   "cell_type": "code",
   "execution_count": null,
   "metadata": {},
   "outputs": [],
   "source": [
    "plot(tsteps ./ 60,\n",
    "     fitx_m';\n",
    "     ribbon=100sqrt.(fitx_v)',\n",
    "     legend = true, \n",
    "     linecolors = [\"red\" \"blue\" \"orange\"], \n",
    "     fillcolors = [\"red\" \"blue\" \"orange\"], \n",
    "     labels = [L\"$τ_1$ estimated\" L\"$τ_2$ estimated\" L\"$τ_3$ estimated\"],\n",
    "     xlabel = \"time [min]\", \n",
    "     ylabel = \"temperature [C]\",\n",
    "     size=(500,400)\n",
    ")\n",
    "scatter!(tsteps ./ 60, measurements', markerstrokewidth=0, markercolors = [\"red\" \"blue\" \"orange\"], labels = [L\"$τ_1$ observed\" L\"$τ_2$ observed\" L\"$τ_3$ observed\"])\n",
    "hline!([true_τ_a], color=\"black\", linewidth=1, linestyle=:dot, label=\"ambient temp τ_a\")\n"
   ]
  },
  {
   "cell_type": "code",
   "execution_count": null,
   "metadata": {},
   "outputs": [],
   "source": [
    "# Post-measurement residuals\n",
    "residuals = measurements - C*fitx_m\n",
    "\n",
    "plot(tsteps, residuals[1,:], color=\"red\")\n",
    "plot!(tsteps, residuals[2,:], color=\"blue\")\n",
    "plot!(tsteps, residuals[3,:], color=\"orange\")"
   ]
  },
  {
   "cell_type": "markdown",
   "metadata": {},
   "source": [
    "### Fit GP to residuals"
   ]
  },
  {
   "cell_type": "code",
   "execution_count": null,
   "metadata": {},
   "outputs": [],
   "source": [
    "deg = 3\n",
    "\n",
    "f1_pol3 = Polynomials.fit(fitx_m[1,:], residuals[1,:], deg)\n",
    "f2_pol3 = Polynomials.fit(fitx_m[2,:], residuals[2,:], deg)\n",
    "f3_pol3 = Polynomials.fit(fitx_m[3,:], residuals[3,:], deg)"
   ]
  },
  {
   "cell_type": "code",
   "execution_count": null,
   "metadata": {},
   "outputs": [],
   "source": [
    "plot(xlabel=\"temperature [C]\",\n",
    "     ylabel=\"residuals\",\n",
    "     size=(500,250),\n",
    "     legend=:bottomleft,\n",
    "     )\n",
    "scatter!(fitx_m[1,:], residuals[1,:], alpha=1., markerstrokewidth=0, markersize=3, label=\"SSM residuals\", color=\"red\")\n",
    "plot!(sort(fitx_m[1,:]), x -> f1_pol3(x), linewidth=4, color=\"black\", linestyle=:dash, label=\"polynomial fit\")"
   ]
  },
  {
   "cell_type": "code",
   "execution_count": null,
   "metadata": {},
   "outputs": [],
   "source": [
    "plot(xlabel=\"temperature [C]\",\n",
    "     ylabel=\"residuals\",\n",
    "     size=(500,250),\n",
    "     legend=:bottomleft,\n",
    "     )\n",
    "scatter!(fitx_m[2,:], residuals[2,:], alpha=1., markerstrokewidth=0, markersize=3, label=\"SSM residuals\", color=\"blue\")\n",
    "plot!(sort(fitx_m[2,:]), x -> f2_pol3(x), linewidth=4, color=\"black\", linestyle=:dash, label=\"polynomial fit\")"
   ]
  },
  {
   "cell_type": "code",
   "execution_count": null,
   "metadata": {},
   "outputs": [],
   "source": [
    "plot(xlabel=\"temperature [C]\",\n",
    "     ylabel=\"residuals\",\n",
    "     size=(500,250),\n",
    "     legend=:bottomleft,\n",
    "     )\n",
    "scatter!(fitx_m[3,:], residuals[3,:], alpha=1., markerstrokewidth=0, markersize=3, label=\"SSM residuals\", color=\"orange\")\n",
    "plot!(sort(fitx_m[3,:]), x -> f3_pol3(x), linewidth=4, color=\"black\", linestyle=:dash, label=\"polynomial fit\")"
   ]
  },
  {
   "cell_type": "markdown",
   "metadata": {},
   "source": [
    "## Model validation"
   ]
  },
  {
   "cell_type": "markdown",
   "metadata": {},
   "source": [
    "### Simulation with true function to generate validation data"
   ]
  },
  {
   "cell_type": "code",
   "execution_count": null,
   "metadata": {},
   "outputs": [],
   "source": [
    "N_val = 1000\n",
    "tsteps_val = range(0.0, step=Δt, length=N_val)\n",
    "\n",
    "t_onset_val = 120.\n",
    "t_offset_val = 600.\n",
    "β = 0.5\n",
    "\n",
    "# Generate functions\n",
    "u1_val(t) = u.(t, b=true_b[1], t_on=t_onset_val, t_off=t_offset_val, i=1, β1=β)\n",
    "u2_val(t) = u.(t, b=true_b[2], t_on=t_onset_val, t_off=t_offset_val, i=2, β1=β)\n",
    "u3_val(t) = u.(t, b=true_b[3], t_on=t_onset_val, t_off=t_offset_val, i=3, β1=β)\n",
    "\n",
    "inputs_val = hcat([[u1_val(k); u2_val(k); u3_val(k)] for k in tsteps_val]...)"
   ]
  },
  {
   "cell_type": "code",
   "execution_count": null,
   "metadata": {},
   "outputs": [],
   "source": [
    "function NONLCONV_val(dz, z, params, t)\n",
    "    \"Lumped-element model with nonlinear convection term\"\n",
    "\n",
    "    # Extract parameters\n",
    "    mcp_1, mcp_2, mcp_3, a_1, a_2, a_3, τ_a, k12, k23, h_a = params\n",
    "    \n",
    "    # Conduction\n",
    "    dz[1] = (-k12*z[1] +      k12 *z[2]            ) / mcp_1\n",
    "    dz[2] = ( k12*z[1] - (k12+k23)*z[2] + k23 *z[3]) / mcp_2\n",
    "    dz[3] = (                 k23 *z[2] - k23 *z[3]) / mcp_3\n",
    "    \n",
    "    # Convection - linear\n",
    "    dz[1] += h_a * a_1 * (τ_a - z[1]) / mcp_1\n",
    "    dz[2] += h_a * a_2 * (τ_a - z[2]) / mcp_2\n",
    "    dz[3] += h_a * a_3 * (τ_a - z[3]) / mcp_3\n",
    "    \n",
    "    # Convection - nonlinear\n",
    "    dz[1] += r(z[1],τ_a) ./ mcp_1\n",
    "    dz[2] += r(z[2],τ_a) ./ mcp_2\n",
    "    dz[3] += r(z[3],τ_a) ./ mcp_3\n",
    "    \n",
    "    # Input heat\n",
    "    dz[1] += u1_val(t) / mcp_1\n",
    "    dz[2] += u2_val(t) / mcp_2\n",
    "    dz[3] += u3_val(t) / mcp_3\n",
    "end"
   ]
  },
  {
   "cell_type": "code",
   "execution_count": null,
   "metadata": {},
   "outputs": [],
   "source": [
    "sysparams = [true_mcp_1, \n",
    "             true_mcp_2, \n",
    "             true_mcp_3, \n",
    "             true_a_1, \n",
    "             true_a_2, \n",
    "             true_a_3, \n",
    "             true_τ_a, \n",
    "             true_k12, \n",
    "             true_k23, \n",
    "             true_h_a]\n",
    "\n",
    "τ0_val = [25., 25., 25.]\n",
    "sys_NONLCONV = ODEProblem(NONLCONV_val, τ0_val, (tsteps_val[1], tsteps_val[end]), sysparams)\n",
    "states_val = Array(solve(sys_NONLCONV, RK4(); saveat=tsteps_val, verbose = true))\n",
    "\n",
    "measurements_val = states_val + cholesky(true_R).L*randn(size(states_val))"
   ]
  },
  {
   "cell_type": "code",
   "execution_count": null,
   "metadata": {},
   "outputs": [],
   "source": [
    "p101 = plot(xlabel=\"\", ylabel=\"temperature [C]\")\n",
    "plot!(tsteps_val, states_val', linecolors = [\"red\" \"blue\" \"orange\"], labels = [L\"$τ_1$ true\" L\"$τ_2$ true\" L\"$τ_3$ true\"], )\n",
    "scatter!(tsteps_val, measurements_val', markercolors = [\"red\" \"blue\" \"orange\"], labels = [L\"$τ_1$ observed\" L\"$τ_2$ observed\" L\"$τ_3$ observed\"])\n",
    "hline!([true_τ_a], color=\"black\", linewidth=1, linestyle=:dot, label=\"ambient temp τ_a\")\n",
    "\n",
    "p102 = plot(xlabel = \"time [s]\", ylabel = \"input [kW]\")\n",
    "plot!(tsteps_val, inputs_val' ./ 1000, linecolors = [\"red\" \"blue\" \"orange\"], labels = [L\"$u_1$\" L\"$u_2$\" L\"$u_3$\"], )\n",
    "\n",
    "plot(p101, p102, layout=grid(2,1, heights=[0.8, 0.2]), size=(1200,600))"
   ]
  },
  {
   "cell_type": "markdown",
   "metadata": {},
   "source": [
    "### Simulation by identified model"
   ]
  },
  {
   "cell_type": "code",
   "execution_count": null,
   "metadata": {},
   "outputs": [],
   "source": [
    "function NONLCONV_idsim(dz, z, params, t)\n",
    "    \"Lumped-element model with nonlinear convection term\"\n",
    "\n",
    "    # Extract parameters\n",
    "    mcp_1, mcp_2, mcp_3, a_1, a_2, a_3, τ_a, k12, k23, h_a = params\n",
    "    \n",
    "    # Conduction\n",
    "    dz[1] = (-k12*z[1] +      k12 *z[2]            ) / mcp_1\n",
    "    dz[2] = ( k12*z[1] - (k12+k23)*z[2] + k23 *z[3]) / mcp_2\n",
    "    dz[3] = (                 k23 *z[2] - k23 *z[3]) / mcp_3\n",
    "    \n",
    "    # Convection - linear\n",
    "    dz[1] += h_a * a_1 * (τ_a - z[1]) / mcp_1\n",
    "    dz[2] += h_a * a_2 * (τ_a - z[2]) / mcp_2\n",
    "    dz[3] += h_a * a_3 * (τ_a - z[3]) / mcp_3\n",
    "    \n",
    "    # Convection - nonlinear\n",
    "    dz[1] += f1_pol3(z[1]) \n",
    "    dz[2] += f2_pol3(z[2]) \n",
    "    dz[3] += f3_pol3(z[3]) \n",
    "    \n",
    "    # Input heat\n",
    "    dz[1] += u1_val(t) / mcp_1\n",
    "    dz[2] += u2_val(t) / mcp_2\n",
    "    dz[3] += u3_val(t) / mcp_3\n",
    "end\n",
    "\n",
    "idNONLCONV = ODEProblem(NONLCONV_idsim, τ0_val, (tsteps_val[1], tsteps_val[end]), sysparams)\n",
    "sim_states = Array(solve(idNONLCONV, Tsit5(); saveat=tsteps_val, verbose = true))"
   ]
  },
  {
   "cell_type": "markdown",
   "metadata": {},
   "source": [
    "### Compare true and identified "
   ]
  },
  {
   "cell_type": "code",
   "execution_count": null,
   "metadata": {},
   "outputs": [],
   "source": [
    "SMSE_GPSSM = mean((sim_states - states_val).^2)\n",
    "\n",
    "plot(tsteps_val,\n",
    "     sim_states';\n",
    "     legend = true, \n",
    "     title = \"GPSSM Simulation MSE = $SMSE_GPSSM\",\n",
    "     linecolors = [\"red\" \"blue\" \"orange\"], \n",
    "     fillcolors = [\"red\" \"blue\" \"orange\"], \n",
    "     labels = [L\"$τ_1$ simulated\" L\"$τ_2$ simulated\" L\"$τ_3$ simulated\"],\n",
    "     xlabel = \"time [s]\", \n",
    "     ylabel = \"temperature [C]\",\n",
    "     size=(900,400)\n",
    ")\n",
    "plot!(tsteps_val, \n",
    "      transpose(states_val), \n",
    "      alpha = 0.5,\n",
    "      linecolors = [\"red\" \"blue\" \"orange\"], \n",
    "      linestyle = :dash,\n",
    "      labels = [L\"$τ_1$ true\" L\"$τ_2$ true\" L\"$τ_3$ true\"],\n",
    ")\n"
   ]
  },
  {
   "cell_type": "code",
   "execution_count": null,
   "metadata": {},
   "outputs": [],
   "source": [
    "plot(tsteps_val ./ 60,\n",
    "     sim_states';\n",
    "     legend = true, \n",
    "     linewidth=4,\n",
    "     linecolors = [\"red\" \"blue\" \"orange\"], \n",
    "     fillcolors = [\"red\" \"blue\" \"orange\"], \n",
    "     labels = [L\"$T_1$ identified\" L\"$T_2$ identified\" L\"$T_3$ identified\"],\n",
    "     xlabel = \"time [min]\", \n",
    "     ylabel = \"temperature [C]\",\n",
    "     size=(500,250)\n",
    ")\n",
    "plot!(tsteps_val ./ 60, \n",
    "      transpose(states_val), \n",
    "      linewidth=4,\n",
    "      alpha = 1.,\n",
    "      linecolors = [\"red\" \"blue\" \"orange\"], \n",
    "      linestyle = :dash,\n",
    "      labels = [L\"$T_1$ system\" L\"$T_2$ system\" L\"$T_3$ system\"],\n",
    ")\n"
   ]
  },
  {
   "cell_type": "code",
   "execution_count": null,
   "metadata": {},
   "outputs": [],
   "source": [
    "jldsave(\"results/SSM+GPr.jld2\"; true_mcp_1, true_mcp_2, true_mcp_3, true_τ_a, tsteps, Δt, fitx_m, fitx_v, states, measurements, inputs, f1_pol3, f2_pol3, f3_pol3, λ_star, γ_star, residuals, tsteps_val, sim_states, states_val)"
   ]
  },
  {
   "cell_type": "code",
   "execution_count": null,
   "metadata": {},
   "outputs": [],
   "source": []
  }
 ],
 "metadata": {
  "jupytext": {
   "formats": "ipynb,md"
  },
  "kernelspec": {
   "display_name": "Julia 1.10.4",
   "language": "julia",
   "name": "julia-1.10"
  },
  "language_info": {
   "file_extension": ".jl",
   "mimetype": "application/julia",
   "name": "julia",
   "version": "1.10.4"
  }
 },
 "nbformat": 4,
 "nbformat_minor": 2
}
