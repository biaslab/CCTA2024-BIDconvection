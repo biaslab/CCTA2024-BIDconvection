{
 "cells": [
  {
   "cell_type": "markdown",
   "metadata": {},
   "source": [
    "# Bayesian grey-box identification with Gaussian Process State-Space Model\n",
    "\n",
    "Last update: 20-10-2023\n",
    "\n",
    "---\n",
    "\n",
    "The primary goal of this project is to identify parameters in a grey-box model of a thermal setup (see system description below), based on temperature measurements at specific locations on the system. A secondary goal is to develop expertise in Bayesian inference techniques for system identification in general."
   ]
  },
  {
   "cell_type": "code",
   "execution_count": null,
   "metadata": {},
   "outputs": [],
   "source": [
    "import Pkg\n",
    "Pkg.activate(\"..\")\n",
    "Pkg.instantiate()"
   ]
  },
  {
   "cell_type": "markdown",
   "metadata": {},
   "source": [
    "## System description\n",
    "\n",
    "A schematic depiction of the setup is shown in the figure below. \n",
    "\n",
    "<p><center><img src='../../system/system-photo.png'/></center></p>\n",
    "\n",
    "In short, the setup consists of 3 metal blocks which have been lined up, with resistive nylon pads interposed. The temperature can be measured using thermistors at arbitrary places on the setup; for simplicity we assume that we measure the temperature at a single spot on each block, which we call $\\tau_1$, $\\tau_2$, and $\\tau_3$. The temperatures will evolve due to a number of different factors; we will only consider the influence of conduction, convection, radiation, and the user controlled input heat (band heaters).\n",
    "\n",
    "By assuming that conduction within blocks is so fast that there are no temperature differences within a block, we may model the system using a [lumped-element model](https://en.wikipedia.org/wiki/Lumped-element_model), governed by the following system of ODEs:\n",
    "\n",
    "$$\\frac{d}{dt}\\begin{pmatrix} m_1 c_{p, 1} \\tau_1 \\\\ m_2 c_{p, 2} \\tau_2 \\\\ m_3 c_{p, 3} \\tau_3 \\end{pmatrix} = \n",
    "\\underbrace{\\begin{pmatrix} -k_{12} & k_{12} & 0 \\\\ k_{12} & -(k_{12} + k_{23}) & k_{23} \\\\ 0 & k_{23} & -k_{23} \\end{pmatrix} \\begin{pmatrix} \\tau_1 \\\\ \\tau_2 \\\\ \\tau_3 \\end{pmatrix}}_{\\textrm{conduction}} + \\underbrace{\\begin{pmatrix} h(\\tau_1, \\tau_a, 1, t) \\\\ h(\\tau_2, \\tau_a, 2, t) \\\\ h(\\tau_3, \\tau_a, 3, t) \\end{pmatrix}}_{\\textrm{convection}} + \\underbrace{\\sigma \\begin{pmatrix} a_1 \\varepsilon_1 (\\tau_a^4 - \\tau_1^4) \\\\ a_2 \\varepsilon_2 (\\tau_a^4 - \\tau_2^4) \\\\ a_3 \\varepsilon_3 (\\tau_a^4 - \\tau_3^4) \\end{pmatrix}}_{\\textrm{radiation}} + \\underbrace{\\begin{pmatrix} u_1 \\\\ u_2 \\\\ u_3 \\end{pmatrix}}_{\\textrm{input}}.$$\n",
    "\n",
    "Convection is notoriously hard to model. A coarse approximation would be Newton's law of cooling (Clercx, 2015; Eq. 8.17), which states that convection is linear in the difference between the temperature of the block and the ambient temperature: $h_a (\\tau_a - \\tau_i)$. With this linear term, we can take steps similar to the identification of the oscillator in Rogers \\& Friis (2022), describing the nonlinear function as the combination of a linear term and a \"nonlinear remainder\":\n",
    "\n",
    "$$\\underbrace{h(\\tau_i, \\tau_a, i, t)}_{\\text{total convection}} = \\underbrace{h_a (\\tau_a - \\tau_i)}_{\\text{linear cooling law}} + \\underbrace{r(\\tau_i, \\tau_a, i, t)}_{\\text{nonlinear remainder}} \\, ,$$\n",
    "\n",
    "for some constant $h_a$. Furthermore, the role of radiation can often be neglected.\n",
    "\n",
    "We can absorb the ambient temperature and the linear convection term into the state vector. Now, the governing equations become:\n",
    "\n",
    "$$\\begin{aligned}\n",
    "\\begin{bmatrix} \\dot{\\tau}_a \\\\ \\dot{\\tau}_1 \\\\ \\vdots \\\\ \\dot{\\tau}_3 \\end{bmatrix} = \\begin{bmatrix} 0 & 0 & 0 & 0 \\\\ \\frac{h_a a_1}{m_1 c_{p,1}} & \\frac{-k_{12} - h_a a_1}{m_1 c_{p,1}} & \\frac{k_{12}}{m_1 c_{p,1}} & 0 \\\\\n",
    "\\frac{h_a a_2}{m_2 c_{p,2}} & \\frac{k_{12}}{m_2 c_{p,2}} & \\frac{-k_{12} - k_{23} - h_a a_2}{m_2 c_{p,2}} & \\frac{k_{23}}{m_2 c_{p,2}} \\\\\n",
    "\\frac{h_a a_3}{m_3 c_{p,3}} & 0 & \\frac{k_{23}}{m_3 c_{p,3}} & \\frac{-k_{23} - h_a a_3}{m_3 c_{p,3}} \\end{bmatrix} \\begin{bmatrix} \\tau_a \\\\ \\tau_1 \\\\ \\tau_2 \\\\ \\tau_3 \\end{bmatrix} + \\begin{bmatrix} r(\\tau_1, \\tau_a, 1, t) \\\\ r(\\tau_2, \\tau_a, 2, t) \\\\ r(\\tau_3, \\tau_a, 3, t) \\end{bmatrix} + \\begin{bmatrix} 0 & 0 & 0 \\\\ \\frac{1}{m_1 c_{p,1}} & 0 & 0 \\\\ 0 & \\frac{1}{m_2 c_{p,2}} & 0 \\\\ 0 & 0 & \\frac{1}{m_3 c_{p,3}} \\end{bmatrix} \\begin{bmatrix} u_1 \\\\ u_2 \\\\ u_3 \\end{bmatrix}  \\, .\n",
    "\\end{aligned}$$\n",
    "\n",
    "In these equations, we can distinguish three types of quantities:\n",
    "1. Measured/observed quantities: e.g. $\\tau_a$, $\\tau_i$, $u_i$. These may vary over tsteps, and are known up to a given accuracy due to measurement noise;\n",
    "\n",
    "2. Known constants: e.g. $m_i$, $c_{p, i}$, $a$. These are fully known, and are constant over tsteps. This is reasonable for quantities such as mass $m$ and surface area $a$ (which can be easily measured) and specific heat capacity $c_p$;\n",
    "\n",
    "3. Unknown constants: e.g. $k_{ij}$, $h_a$. Yhere is no simple physical way to measure or derive their values. For example, the conduction coefficients $k_{ij}$ can vary depending on how tightly the blocks have been put together. In this project, we want to identify these constants using Bayesian inference."
   ]
  },
  {
   "cell_type": "code",
   "execution_count": null,
   "metadata": {},
   "outputs": [],
   "source": [
    "using Revise\n",
    "using RxInfer\n",
    "using Random\n",
    "using MAT\n",
    "using Optim\n",
    "using JLD2\n",
    "using LaTeXStrings\n",
    "using Polynomials\n",
    "using DifferentialEquations\n",
    "using Distributions\n",
    "using LinearAlgebra\n",
    "using Plots; default(label=\"\", linewidth=3, margin=15Plots.pt)\n",
    "\n",
    "include(\"../util/conductance.jl\")\n",
    "include(\"../util/discretization.jl\")"
   ]
  },
  {
   "cell_type": "code",
   "execution_count": null,
   "metadata": {},
   "outputs": [],
   "source": [
    "## Load data\n",
    "dat = matread(\"data/20230110_143005_sensortraces.mat\")"
   ]
  },
  {
   "cell_type": "code",
   "execution_count": null,
   "metadata": {},
   "outputs": [],
   "source": [
    "# Sensors per block\n",
    "Ns = convert.(Int64, dat[\"N\"])\n",
    "N = sum(Ns)\n",
    "\n",
    "# Sensor 7 is broken\n",
    "NTCIX = [1:6; 8:13];\n",
    "measurements = hcat([dat[\"NTC$k\"] for k in NTCIX]...)\n",
    "inputs = dat[\"u\"]; # First column is ambient"
   ]
  },
  {
   "cell_type": "code",
   "execution_count": null,
   "metadata": {},
   "outputs": [],
   "source": [
    "# Time parameters\n",
    "Ts = dat[\"Ts\"]\n",
    "tmax = convert(Int64, dat[\"tmax\"])\n",
    "tmax = 28_800\n",
    "\n",
    "# Subsample\n",
    "ssix = 1\n",
    "Δt = Ts*ssix\n",
    "tsteps = range(0.0, step=Δt, stop=tmax-1)\n",
    "T = length(tsteps);\n",
    "inputs_ss = inputs[1:ssix:tmax,:]\n",
    "measurements_ss = measurements[1:ssix:tmax,:];"
   ]
  },
  {
   "cell_type": "code",
   "execution_count": null,
   "metadata": {},
   "outputs": [],
   "source": [
    "lcolors = hcat([repeat([\"red\"], Ns[1]); repeat([\"blue\"], Ns[2]); repeat([\"orange\"], Ns[3])]...)\n",
    "labelsm = hcat([L\"$T_{%$k}$\" for k in NTCIX]...)\n",
    "\n",
    "vis_ss = 1_000\n",
    "\n",
    "plt1 = plot(tsteps[2:vis_ss:end] ./ 3600, \n",
    "    inputs_ss[2:vis_ss:end,1],\n",
    "    label=L\"$T_a$\",\n",
    "    color=\"black\",\n",
    "    )             \n",
    "plot!(tsteps[2:vis_ss:end] ./ 3600, \n",
    "    measurements_ss[2:vis_ss:end,:],\n",
    "    linecolors = lcolors, \n",
    "    linewidth=4,\n",
    "    labels = labelsm,\n",
    "    # xscale=:log10,\n",
    "    ylabel=\"temperature [C]\",\n",
    "    legend=:topleft,\n",
    "    xticks=([1., 2. , 4., 8.]),\n",
    "    xlabel=\"time [h]\",\n",
    "    ylims=[20., 50.],\n",
    "    grid=true,\n",
    "    size=(900,500),\n",
    "    legendfontsize=10,\n",
    "    guidefontsize=10,)\n",
    "        "
   ]
  },
  {
   "cell_type": "code",
   "execution_count": null,
   "metadata": {},
   "outputs": [],
   "source": [
    "vis_ss = 1_000\n",
    "vis_ix = [3,9,12]\n",
    "\n",
    "lcolors3 = [\"red\" \"blue\" \"orange\"]\n",
    "labelsm3 = hcat([L\"$T_{%$k}$\" for k in vis_ix]...)\n",
    "\n",
    "plt1 = plot(tsteps[2:vis_ss:end] ./ 3600, \n",
    "            measurements_ss[2:vis_ss:end,vis_ix],\n",
    "            linecolors = lcolors3, \n",
    "            linewidth=4,\n",
    "            labels = labelsm3,\n",
    "            # xscale=:log10,\n",
    "            ylabel=\"temperature [C]\",\n",
    "            legend=:bottom,\n",
    "            # xticks=([log10(8.), log10(16.), log10(24.)], [8., 16., 24.]),\n",
    "            ylims=[20., 50.],\n",
    "            grid=true)\n",
    "plt2 = plot(tsteps[2:vis_ss:end] ./ 3600, \n",
    "            inputs_ss[2:vis_ss:end,1],\n",
    "            xlabel=\"time [h]\",\n",
    "            color=\"black\",\n",
    "            yticks=[23, 24],\n",
    "            ylims=[23, 24],\n",
    "            label=L\"$T_a$\",\n",
    "            ylabel=\"temperature [C]\",\n",
    "            legend=:top)            \n",
    "plot(plt1,plt2, layout=grid(2,1, heights=[0.6, 0.4]), margin=0.1Plots.mm, size=(500,350))"
   ]
  },
  {
   "cell_type": "code",
   "execution_count": null,
   "metadata": {},
   "outputs": [],
   "source": [
    "mcps = dat[\"Mcps\"]         # Mass heat capacity\n",
    "gc   = dat[\"gc\"]           # Base conduction of blocks\n",
    "Ac   = dat[\"Ac\"]           # Cross-section surfaces (m2)\n",
    "An   = dat[\"An\"]           # Outer surface areas (m2)\n",
    "l    = dat[\"l\"]            # Lengths\n",
    "lpl  = dat[\"l_pom_left\"]\n",
    "lpr  = dat[\"l_pom_right\"]\n",
    "\n",
    "An_ = vcat([repeat([An[k]], Ns[k]) for k in 1:3]...)\n",
    "M   = diagm(vcat([repeat([mcps[k]], Ns[k]) for k in 1:3]...))"
   ]
  },
  {
   "cell_type": "code",
   "execution_count": null,
   "metadata": {},
   "outputs": [],
   "source": [
    "k_12, k_23, h_a = dat[\"xoptimal\"]"
   ]
  },
  {
   "cell_type": "markdown",
   "metadata": {},
   "source": [
    "## GP-augmented state-space model\n",
    "\n",
    "### Matern-1/2 GP in state-space form\n",
    "Suppose a function $h(x)$ follows a zero-mean Gaussian Process\n",
    "\n",
    "$$\\begin{aligned}\n",
    "h(x) \\sim \\mathcal{GP}(0, k(x,x')) \\, .\n",
    "\\end{aligned}$$\n",
    "\n",
    "The GP can be written as the following differential equation ([Hartikainen, 2013)](https://aaltodoc.aalto.fi/bitstream/handle/123456789/7579/isbn9789526049847.pdf?sequence=1&isAllowed=y)):\n",
    "\n",
    "$$\\begin{align}\n",
    "\\dot{h} = F_h h + L v \\, ,\n",
    "\\end{align}$$\n",
    "\n",
    "with $h$ being states, $F_h$ a state transition matrix and $v$ a white noise process. The Matern GP has a stationary covariance function, defined as:\n",
    "\n",
    "$$\\begin{aligned}\n",
    "k(\\tau) = \\sigma^2 \\frac{2^{1-\\nu}}{\\Gamma(\\nu)} \\left(\\frac{\\sqrt{2\\nu}\\tau}{l} \\right)^\\nu K_\\nu\\left(\\frac{\\sqrt{2\\nu}\\tau}{l} \\right)\n",
    "\\end{aligned}$$\n",
    "\n",
    "where $\\sigma^2$ is a scale hyperparameter, $l$ a characteristic length-scale, $\\nu$ the smoothness hyperparameter, and $K_\\nu(.)$ is a modified Bessel function of the second kind. \n",
    "\n",
    "Matern-1/2 refers to $\\nu=1/2$. The matrices for the state space model are computed as follows:\n",
    "\n",
    "$$\\begin{aligned}\n",
    "\\mathbf{F}_h = -\\lambda,\\quad \\quad \\mathbf{L} = 1, \\quad \\quad \\mathbf{P}_\\infty = \\sigma^2  ,\\quad \\quad  Q_c = 2\\lambda\\sigma^2\n",
    "\\end{aligned}$$ \n",
    "\n",
    "where $\\lambda = \\frac{\\sqrt{3}}{l} $.\n",
    "\n",
    "### Augmented state-space model\n",
    "\n",
    "The original state-space model (see top) is:\n",
    "\n",
    "$$\\begin{aligned}\n",
    "\\underbrace{\\begin{bmatrix} \\dot{\\tau}_1 \\\\ \\vdots \\\\ \\dot{\\tau}_3 \\end{bmatrix}}_{\\dot{z}} = \\underbrace{\\begin{bmatrix} \\frac{-k_{12} - h_a a_1}{m_1 c_{p,1}} & \\frac{k_{12}}{m_1 c_{p,1}} & 0 \\\\\n",
    "\\frac{k_{12}}{m_2 c_{p,2}} & \\frac{-k_{12} - k_{23} - h_a a_2}{m_2 c_{p,2}} & \\frac{k_{23}}{m_2 c_{p,2}} \\\\\n",
    " 0 & \\frac{k_{23}}{m_3 c_{p,3}} & \\frac{-k_{23} - h_a a_3}{m_3 c_{p,3}} \\end{bmatrix}}_{F} \\underbrace{\\begin{bmatrix} \\tau_1 \\\\ \\vdots \\\\ \\tau_3 \\end{bmatrix}}_{z} + \\underbrace{\\begin{bmatrix} \\frac{h_a a_1}{m_1 c_{p,1}} & \\frac{1}{m_1 c_{p,1}} & 0 & 0 \\\\ \\frac{h_a a_2}{m_2 c_{p,2}} & 0 & \\frac{1}{m_2 c_{p,2}} & 0 \\\\ \\frac{h_a a_3}{m_3 c_{p,3}} & 0 & 0 & \\frac{1}{m_3 c_{p,3}} \\end{bmatrix}}_{G} \\underbrace{\\begin{bmatrix} \\tau_a \\\\ u_1 \\\\ u_2 \\\\ u_3 \\end{bmatrix}}_{u} + M^{-1}r(z) \\, \n",
    "\\end{aligned}$$\n",
    "\n",
    "Since $r(z)$ is vector-valued, we need multiple GP functions:\n",
    "\n",
    "$$\\begin{aligned}\n",
    "r(z) \\approx h = \\begin{bmatrix} h^{(1)} \\\\ h^{(2)} \\\\ h^{(3)} \\end{bmatrix} \\, .\n",
    "\\end{aligned}$$\n",
    "\n",
    "Augmenting the state-space model with $h$ as described above, gives:\n",
    "\n",
    "$$\\begin{aligned}\n",
    "\\begin{bmatrix} \\dot{z} \\\\ \\dot{h} \\end{bmatrix} = \\begin{bmatrix} F & M^{-1} \\\\ 0 & F_h \\end{bmatrix} \\begin{bmatrix} z \\\\ h \\end{bmatrix} +  \\begin{bmatrix} G \\\\ 0 \\end{bmatrix} u + \\begin{bmatrix} 0 \\\\ L \\end{bmatrix} w \\, .\n",
    "\\end{aligned}$$\n",
    "\n",
    "After discretization, we get:\n",
    "\n",
    "$$\\begin{aligned}\n",
    "x_{k+1} = A x_k + B u_k + w_k\\, , \\quad \\text{with}\\ w_k \\sim \\mathcal{N}(0, Q) \\, ,\n",
    "\\end{aligned}$$\n",
    "\n",
    "where $x_k = \\begin{bmatrix} z_k \\\\ h_k \\end{bmatrix}$ and\n",
    "\n",
    "$$\\begin{aligned}\n",
    "    A = \\exp\\big(\\Delta t \\begin{bmatrix} F & M^{-1} \\\\ 0 & F_h \\end{bmatrix} \\big) \\, , \\quad B = \\begin{bmatrix} \\Delta t G \\\\ 0 \\end{bmatrix} \\, , \\quad Q = \\int_0^{\\Delta t} \\exp(\\begin{bmatrix} F & M^{-1} \\\\ 0 & F_h \\end{bmatrix}t) \\begin{bmatrix} 0 \\\\ L \\end{bmatrix} Q_c \\begin{bmatrix} 0 \\\\ L \\end{bmatrix}^{\\top} \\exp(\\begin{bmatrix} F & M^{-1} \\\\ 0 & F_h \\end{bmatrix} t)^{\\top} dt \\, .\n",
    "\\end{aligned}$$\n"
   ]
  },
  {
   "cell_type": "code",
   "execution_count": null,
   "metadata": {},
   "outputs": [],
   "source": [
    "@model function SSM(A, B, C, Q, R, m0, S0; T=1)\n",
    "    \n",
    "    x = randomvar(T)\n",
    "    u = datavar(Vector{Float64}, T)\n",
    "    y = datavar(Vector{Float64}, T)\n",
    "    \n",
    "    x_0 ~ MvNormalMeanCovariance(m0, S0)\n",
    "    x_kmin1 = x_0\n",
    "    for k = 1:T\n",
    "        \n",
    "        x[k] ~ MvNormalMeanCovariance(A*x_kmin1 + B*u[k], Q)\n",
    "        y[k] ~ MvNormalMeanCovariance(C*x[k], R)\n",
    "        \n",
    "        x_kmin1 = x[k]\n",
    "    end\n",
    "end"
   ]
  },
  {
   "cell_type": "code",
   "execution_count": null,
   "metadata": {},
   "outputs": [],
   "source": [
    "Dx = 24\n",
    "Dt = 12\n",
    "Dh = 12\n",
    "Du = 13\n",
    "Dy = 12\n",
    "\n",
    "F  = inv(M)*conductances([k_12,k_12,h_a], Ns, An, gc, [lpl, lpr])\n",
    "B  = [Δt*inv(M)*[h_a*An_ diagm(ones(N))]; zeros(Dh,Du)]\n",
    "C  = [diagm(ones(Dy)) zeros(Dy,Dx-Dy)]\n",
    "R  = diagm(1e-3*ones(Dy))\n",
    "m0 = [measurements_ss[1,:]; zeros(Dh)];"
   ]
  },
  {
   "cell_type": "code",
   "execution_count": null,
   "metadata": {},
   "outputs": [],
   "source": [
    "output_ = [measurements_ss[k,:] for k in 1:T];\n",
    "inputs_ = [inputs_ss[k,:] for k in 1:T];"
   ]
  },
  {
   "cell_type": "code",
   "execution_count": null,
   "metadata": {},
   "outputs": [],
   "source": [
    "function J(hparams::AbstractVector)\n",
    "    \"hparams = [λ, σ]\"\n",
    "    \n",
    "    A = [F                                  inv(M);\n",
    "         zeros(Dh,Dh)  diagm(-hparams[1]*ones(Dh))]*Δt + diagm(ones(Dx))\n",
    "    \n",
    "    Q  = analyticQ(inv(M), hparams[1], hparams[2], Δt=Δt)\n",
    "    S0 = diagm([1e-8*ones(Dt); hparams[2]^2*ones(Dh)])\n",
    "\n",
    "    results = infer(\n",
    "        model       = SSM(A, B, C, Q, R, m0,S0, T=T),\n",
    "        data        = (y = output_, u = inputs_),\n",
    "        options     = (limit_stack_depth = 100,),\n",
    "        free_energy = true\n",
    "    )\n",
    "    return results.free_energy[end]    \n",
    "end\n",
    "        \n",
    "ops = Optim.Options(g_tol=1e-8, time_limit=300, show_every=1)\n",
    "res = optimize(J, 1e-8, 1e8, [1e4, 1e3], Fminbox(LBFGS()), ops; autodiff=:forward)\n",
    "λ_star,γ_star = Optim.minimizer(res)"
   ]
  },
  {
   "cell_type": "code",
   "execution_count": null,
   "metadata": {},
   "outputs": [],
   "source": [
    "# λ_star  = 2.8902590487600577e-7\n",
    "# σ²_star = 1002.7080959640236\n",
    "\n",
    "λ_star =  17.190528806217117\n",
    "γ_star = 0.00015355491941274524"
   ]
  },
  {
   "cell_type": "code",
   "execution_count": null,
   "metadata": {},
   "outputs": [],
   "source": [
    "# State estimation with optimized hyperparameters\n",
    "A = exp([F                              inv(M);\n",
    "         zeros(Dh,Dh)  diagm(-λ_star*ones(Dh))]*Δt)\n",
    "\n",
    "Q = analyticQ(inv(M), λ_star, γ_star, Δt=Δt)\n",
    "S0 = diagm([1e-3*ones(Dy); γ_star^2*ones(Dh)])\n",
    "\n",
    "results = infer(\n",
    "    model        = SSM(A, B, C, Q, R, m0, S0, T=T),\n",
    "    data         = (y = output_, u = inputs_),\n",
    "    options      = (limit_stack_depth = 100,),\n",
    "    free_energy  = true,\n",
    "    showprogress = true,\n",
    ")"
   ]
  },
  {
   "cell_type": "code",
   "execution_count": null,
   "metadata": {},
   "outputs": [],
   "source": [
    "qx = results.posteriors[:x]\n",
    "fitx_v = hcat( var.(qx)...)\n",
    "fitx_m = hcat(mean.(qx)...)"
   ]
  },
  {
   "cell_type": "code",
   "execution_count": null,
   "metadata": {},
   "outputs": [],
   "source": [
    "labelsf = hcat([\"τ_$k fit\" for k in NTCIX]...)\n",
    "\n",
    "vis_ss = 1_000\n",
    "\n",
    "plot(tsteps[2:vis_ss:end],\n",
    "     fitx_m[1:12,2:vis_ss:end]';\n",
    "     ribbon=sqrt.(fitx_v[1:12,2:vis_ss:end])',\n",
    "     legend = :topleft, \n",
    "     linecolors = lcolors, \n",
    "     labels = labelsf,\n",
    "     xlabel = \"tsteps [s]\", \n",
    "     ylabel = \"temperature [C]\",\n",
    "     size=(900,400)\n",
    ")\n",
    "plot!(tsteps[2:vis_ss:end], \n",
    "      measurements_ss[2:vis_ss:end,:], \n",
    "      alpha = 0.3,\n",
    "      linestyle = :dash,\n",
    "      linecolors = lcolors, \n",
    "      labels = labelsm,\n",
    "#       xscale=:log10,\n",
    ")"
   ]
  },
  {
   "cell_type": "markdown",
   "metadata": {},
   "source": [
    "### Gaussian process fits over tsteps"
   ]
  },
  {
   "cell_type": "code",
   "execution_count": null,
   "metadata": {},
   "outputs": [],
   "source": [
    "ntc_ix = 3\n",
    "vis_ss = 100\n",
    "\n",
    "scatter3d(inputs_ss[2:vis_ss:end,1],\n",
    "         fitx_m[ntc_ix,2:vis_ss:end],\n",
    "         fitx_m[12+ntc_ix,2:vis_ss:end],\n",
    "         legend = true, \n",
    "        color = \"red\",\n",
    "#      labels = \"GP NTC#$ntc_ix\",\n",
    "        title =\"NTC#$ntc_ix\",\n",
    "        ylabel = \"Block temperature [C]\",\n",
    "        xlabel = \"Ambient temperature [C]\",\n",
    "        zlabel = \"Change in temperature [ΔC]\",\n",
    "      #  camera = (90,20),\n",
    "        size=(600,500)\n",
    ")"
   ]
  },
  {
   "cell_type": "code",
   "execution_count": null,
   "metadata": {},
   "outputs": [],
   "source": [
    "ntc_ix = 1\n",
    "plot(tsteps[2:vis_ss:end],\n",
    "     fitx_m[12+ntc_ix,2:vis_ss:end]*Δt./M[ntc_ix,ntc_ix];\n",
    "     # ribbon=sqrt.(fitx_v[12+ntc_ix,2:vis_ss:end])*Δt./M[ntc_ix,ntc_ix],\n",
    "     legend = true, \n",
    "     color = \"red\",\n",
    "#      labels = \"GP NTC#$ntc_ix\",\n",
    "     title =\"NTC#$ntc_ix\",\n",
    "     xlabel = \"tsteps [s]\",\n",
    "     # xscale = :log10,\n",
    "     ylabel = \"Change in temperature [ΔC]\",\n",
    "     size=(600,400)\n",
    ")"
   ]
  },
  {
   "cell_type": "code",
   "execution_count": null,
   "metadata": {},
   "outputs": [],
   "source": [
    "ntc_ix = 2\n",
    "plot(tsteps[2:vis_ss:end],\n",
    "     fitx_m[12+ntc_ix,2:vis_ss:end]*Δt./M[ntc_ix,ntc_ix];\n",
    "     # ribbon=sqrt.(fitx_v[12+ntc_ix,2:vis_ss:end])*Δt./M[ntc_ix,ntc_ix],\n",
    "     legend = true, \n",
    "     color = \"red\",\n",
    "#      labels = \"GP NTC#$ntc_ix\",\n",
    "     title =\"NTC#$ntc_ix\",\n",
    "     xlabel = \"tsteps [s]\",\n",
    "     # xscale = :log10,\n",
    "     ylabel = \"Change in temperature [ΔC]\",\n",
    "     size=(600,400)\n",
    ")"
   ]
  },
  {
   "cell_type": "code",
   "execution_count": null,
   "metadata": {},
   "outputs": [],
   "source": [
    "ntc_ix = 3\n",
    "plot(tsteps[2:vis_ss:end],\n",
    "     fitx_m[12+ntc_ix,2:vis_ss:end];\n",
    "     # ribbon=sqrt.(fitx_v[12+ntc_ix,2:vis_ss:end])*Δt./M[ntc_ix,ntc_ix],\n",
    "     legend = true, \n",
    "     color = \"red\",\n",
    "#      labels = \"GP NTC#$ntc_ix\",\n",
    "     # xscale=:log10,\n",
    "     title =\"NTC#$ntc_ix\",\n",
    "     xlabel = \"tsteps [s]\",\n",
    "     ylabel = \"Change in temperature [ΔC]\",\n",
    "     size=(600,400)\n",
    ")"
   ]
  },
  {
   "cell_type": "code",
   "execution_count": null,
   "metadata": {},
   "outputs": [],
   "source": [
    "ntc_ix = 4\n",
    "plot(tsteps[2:vis_ss:end],\n",
    "     fitx_m[12+ntc_ix,2:vis_ss:end]*Δt./M[ntc_ix,ntc_ix];\n",
    "     # ribbon=sqrt.(fitx_v[12+ntc_ix,2:vis_ss:end])*Δt./M[ntc_ix,ntc_ix],\n",
    "     legend = true, \n",
    "     color = \"red\",\n",
    "#      labels = \"GP NTC#$ntc_ix\",\n",
    "      title =\"NTC#$ntc_ix\",\n",
    "     xlabel = \"tsteps [s]\",\n",
    "     ylabel = \"Change in temperature [ΔC]\",\n",
    "     size=(600,400)\n",
    ")"
   ]
  },
  {
   "cell_type": "code",
   "execution_count": null,
   "metadata": {},
   "outputs": [],
   "source": [
    "ntc_ix = 5\n",
    "plot(tsteps[2:vis_ss:end],\n",
    "     fitx_m[12+ntc_ix,2:vis_ss:end]*Δt./M[ntc_ix,ntc_ix];\n",
    "     # ribbon=sqrt.(fitx_v[12+ntc_ix,2:vis_ss:end])*Δt./M[ntc_ix,ntc_ix],\n",
    "     legend = true, \n",
    "     color = \"red\",\n",
    "#      labels = \"GP NTC#$ntc_ix\",\n",
    "     xscale=:log10,\n",
    "     title =\"NTC#$ntc_ix\",\n",
    "     xlabel = \"tsteps [s]\",\n",
    "     ylabel = \"Change in temperature [ΔC]\",\n",
    "     size=(600,400)\n",
    ")"
   ]
  },
  {
   "cell_type": "code",
   "execution_count": null,
   "metadata": {},
   "outputs": [],
   "source": [
    "ntc_ix = 6\n",
    "plot(tsteps[2:vis_ss:end],\n",
    "     fitx_m[12+ntc_ix,2:vis_ss:end]*Δt./M[ntc_ix,ntc_ix];\n",
    "     # ribbon=sqrt.(fitx_v[12+ntc_ix,2:vis_ss:end])*Δt./M[ntc_ix,ntc_ix],\n",
    "     legend = true, \n",
    "     color = \"blue\",\n",
    "#      labels = \"GP NTC#$ntc_ix\",\n",
    "     title =\"NTC#$ntc_ix\",\n",
    "     xlabel = \"tsteps [s]\", \n",
    "     ylabel = \"Change in temperature [ΔC]\",\n",
    "     size=(600,400)\n",
    ")"
   ]
  },
  {
   "cell_type": "code",
   "execution_count": null,
   "metadata": {},
   "outputs": [],
   "source": [
    "ntc_ix = 7\n",
    "plot(tsteps[2:vis_ss:end],\n",
    "     fitx_m[12+ntc_ix,2:vis_ss:end]*Δt./M[ntc_ix,ntc_ix];\n",
    "     # ribbon=sqrt.(fitx_v[12+ntc_ix,2:vis_ss:end])*Δt./M[ntc_ix,ntc_ix],\n",
    "     legend = true, \n",
    "     color = \"blue\",\n",
    "#      labels = \"GP NTC#$ntc_ix\",\n",
    "     title =\"NTC#$(ntc_ix+1)\",\n",
    "     xlabel = \"tsteps [s]\", \n",
    "     ylabel = \"Change in temperature [ΔC]\",\n",
    "     size=(600,400)\n",
    ")"
   ]
  },
  {
   "cell_type": "code",
   "execution_count": null,
   "metadata": {},
   "outputs": [],
   "source": [
    "ntc_ix = 8\n",
    "plot(tsteps[2:vis_ss:end],\n",
    "     fitx_m[12+ntc_ix,2:vis_ss:end]*Δt./M[ntc_ix,ntc_ix];\n",
    "     # ribbon=sqrt.(fitx_v[12+ntc_ix,2:vis_ss:end])*Δt./M[ntc_ix,ntc_ix],\n",
    "     legend = true, \n",
    "     color = \"blue\",\n",
    "#      labels = \"GP NTC#$ntc_ix\",\n",
    "     title =\"NTC#$(ntc_ix+1)\",\n",
    "     xlabel = \"tsteps [s]\", \n",
    "     ylabel = \"Change in temperature [ΔC]\",\n",
    "     size=(600,400)\n",
    ")"
   ]
  },
  {
   "cell_type": "code",
   "execution_count": null,
   "metadata": {},
   "outputs": [],
   "source": [
    "ntc_ix = 9\n",
    "plot(tsteps[2:vis_ss:end],\n",
    "     fitx_m[12+ntc_ix,2:vis_ss:end]*Δt./M[ntc_ix,ntc_ix];\n",
    "     # ribbon=sqrt.(fitx_v[12+ntc_ix,2:vis_ss:end])*Δt./M[ntc_ix,ntc_ix],\n",
    "     legend = true, \n",
    "     color = \"blue\",\n",
    "#      labels = \"GP NTC#$ntc_ix\",\n",
    "     title =\"NTC#$(ntc_ix+1)\",\n",
    "     xlabel = \"tsteps [s]\", \n",
    "     ylabel = \"Change in temperature [ΔC]\",\n",
    "     size=(600,400)\n",
    ")"
   ]
  },
  {
   "cell_type": "code",
   "execution_count": null,
   "metadata": {},
   "outputs": [],
   "source": [
    "ntc_ix = 10\n",
    "plot(tsteps[2:vis_ss:end],\n",
    "     fitx_m[12+ntc_ix,2:vis_ss:end]*Δt./M[ntc_ix,ntc_ix];\n",
    "     # ribbon=sqrt.(fitx_v[12+ntc_ix,2:vis_ss:end])*Δt./M[ntc_ix,ntc_ix],\n",
    "     legend = true, \n",
    "     color = \"orange\",\n",
    "#      labels = \"GP NTC#$ntc_ix\",\n",
    "     title =\"NTC#$(ntc_ix+1)\",\n",
    "     xlabel = \"tsteps [s]\", \n",
    "     ylabel = \"Change in temperature [ΔC]\",\n",
    "     size=(600,400)\n",
    ")"
   ]
  },
  {
   "cell_type": "code",
   "execution_count": null,
   "metadata": {},
   "outputs": [],
   "source": [
    "ntc_ix = 11\n",
    "plot(tsteps[2:vis_ss:end],\n",
    "     fitx_m[12+ntc_ix,2:vis_ss:end]*Δt./M[ntc_ix,ntc_ix];\n",
    "     # ribbon=sqrt.(fitx_v[12+ntc_ix,2:vis_ss:end])*Δt./M[ntc_ix,ntc_ix],\n",
    "     legend = true, \n",
    "     color = \"orange\",\n",
    "#      labels = \"GP NTC#$ntc_ix\",\n",
    "     title =\"NTC#$(ntc_ix+1)\",\n",
    "     xlabel = \"tsteps [s]\", \n",
    "     ylabel = \"Change in temperature [ΔC]\",\n",
    "     size=(600,400)\n",
    ")"
   ]
  },
  {
   "cell_type": "code",
   "execution_count": null,
   "metadata": {},
   "outputs": [],
   "source": [
    "ntc_ix = 12\n",
    "plot(tsteps[2:vis_ss:end],\n",
    "     fitx_m[12+ntc_ix,2:vis_ss:end]*Δt./M[ntc_ix,ntc_ix];\n",
    "     # ribbon=sqrt.(fitx_v[12+ntc_ix,2:vis_ss:end])*Δt./M[ntc_ix,ntc_ix],\n",
    "     legend = true, \n",
    "     color = \"orange\",\n",
    "#      labels = \"GP NTC#$ntc_ix\",\n",
    "     title =\"NTC#$(ntc_ix+1)\",\n",
    "     xlabel = \"tsteps [s]\", \n",
    "     ylabel = \"Change in temperature [ΔC]\",\n",
    "     size=(600,400)\n",
    ")"
   ]
  },
  {
   "cell_type": "markdown",
   "metadata": {},
   "source": [
    "### Extract nonlinearity"
   ]
  },
  {
   "cell_type": "code",
   "execution_count": null,
   "metadata": {},
   "outputs": [],
   "source": [
    "deg = 3\n",
    "h_pol = []\n",
    "\n",
    "# Set higher weights for transients\n",
    "polweights = [10*ones(1_000); ones(4_000); 1e-1*ones(5_000); 1e-2*ones(T-10_000)]\n",
    "\n",
    "for nn in 1:N\n",
    "    push!(h_pol, Polynomials.fit(fitx_m[nn,:], fitx_m[N+nn,:], deg; weights=polweights))\n",
    "end"
   ]
  },
  {
   "cell_type": "code",
   "execution_count": null,
   "metadata": {},
   "outputs": [],
   "source": [
    "ntc_ix = 1\n",
    "\n",
    "plot(xlabel=\"temperature [C]\",\n",
    "     ylabel=\"change in temperature [ΔC]\",\n",
    "     title =\"NTC#$ntc_ix\"\n",
    ")\n",
    "scatter!(fitx_m[ntc_ix,:], fitx_m[N+ntc_ix,:], markersize=100fitx_v[N+ntc_ix,:], alpha=0.1, color=\"red\")\n",
    "plot!(sort(fitx_m[ntc_ix,:]), x -> h_pol[ntc_ix](x), color=\"black\", linestyle=:dash, label=\"polynomial fit\")"
   ]
  },
  {
   "cell_type": "code",
   "execution_count": null,
   "metadata": {},
   "outputs": [],
   "source": [
    "ntc_ix = 2\n",
    "\n",
    "plot(xlabel=\"temperature [C]\",\n",
    "     ylabel=\"change in temperature [ΔC]\",\n",
    "     title =\"NTC#$ntc_ix\"\n",
    ")\n",
    "plot!(fitx_m[ntc_ix,:], fitx_m[N+ntc_ix,:]*Δt./M[ntc_ix,ntc_ix], ribbon=0.0*sqrt.(fitx_v[N+ntc_ix,:]*Δt./M[ntc_ix,ntc_ix]), fillalpha=0.3, color=\"darkred\")\n",
    "plot!(sort(fitx_m[ntc_ix,:]), x -> h_pol[ntc_ix](x)*Δt./M[ntc_ix,ntc_ix], color=\"red\", linestyle=:dash, label=\"polynomial\")"
   ]
  },
  {
   "cell_type": "code",
   "execution_count": null,
   "metadata": {},
   "outputs": [],
   "source": [
    "ntc_ix = 3\n",
    "\n",
    "plot(xlabel=\"temperature [C]\",\n",
    "     ylabel=\"change in temperature [ΔC]\",\n",
    "     title =\"NTC#$ntc_ix\"\n",
    ")\n",
    "plot!(fitx_m[ntc_ix,:], fitx_m[N+ntc_ix,:], ribbon=0.0sqrt.(fitx_v[N+ntc_ix,:]*Δt./M[ntc_ix,ntc_ix]), fillalpha=0.3, color=\"darkred\")\n",
    "plot!(sort(fitx_m[ntc_ix,:]), x -> h_pol[ntc_ix](x), color=\"red\", linestyle=:dash, label=\"polynomial\")"
   ]
  },
  {
   "cell_type": "code",
   "execution_count": null,
   "metadata": {},
   "outputs": [],
   "source": [
    "ntc_ix = 4\n",
    "\n",
    "plot(xlabel=\"temperature [C]\",\n",
    "     ylabel=\"change in temperature [ΔC]\",\n",
    "     title =\"NTC#$ntc_ix\"\n",
    ")\n",
    "plot!(fitx_m[ntc_ix,:], fitx_m[N+ntc_ix,:]*Δt./M[ntc_ix,ntc_ix], ribbon=0.0sqrt.(fitx_v[N+ntc_ix,:]*Δt./M[ntc_ix,ntc_ix]), fillalpha=0.3, color=\"darkred\")\n",
    "plot!(sort(fitx_m[ntc_ix,:]), x -> h_pol[ntc_ix](x)*Δt./M[ntc_ix,ntc_ix], color=\"red\", linestyle=:dash, label=\"polynomial\")"
   ]
  },
  {
   "cell_type": "code",
   "execution_count": null,
   "metadata": {},
   "outputs": [],
   "source": [
    "ntc_ix = 5\n",
    "\n",
    "plot(xlabel=\"temperature [C]\",\n",
    "     ylabel=\"change in temperature [ΔC]\",\n",
    "     title =\"NTC#$ntc_ix\"\n",
    ")\n",
    "scatter!(fitx_m[ntc_ix,:], fitx_m[N+ntc_ix,:], markersize=100fitx_v[N+ntc_ix,:], alpha=0.3, color=\"red\")\n",
    "plot!(sort(fitx_m[ntc_ix,:]), x -> h_pol[ntc_ix](x), color=\"red\", linestyle=:dash, label=\"polynomial\")"
   ]
  },
  {
   "cell_type": "code",
   "execution_count": null,
   "metadata": {},
   "outputs": [],
   "source": [
    "ntc_ix = 6\n",
    "\n",
    "plot(xlabel=\"temperature [C]\",\n",
    "     ylabel=\"change in temperature [ΔC]\",\n",
    "     title =\"NTC#$ntc_ix\"\n",
    ")\n",
    "scatter!(fitx_m[ntc_ix,:], fitx_m[N+ntc_ix,:], markersize=100fitx_v[N+ntc_ix,:], alpha=0.3, color=\"blue\")\n",
    "plot!(sort(fitx_m[ntc_ix,:]), x -> h_pol[ntc_ix](x), color=\"blue\", linestyle=:dash, label=\"polynomial\")"
   ]
  },
  {
   "cell_type": "code",
   "execution_count": null,
   "metadata": {},
   "outputs": [],
   "source": [
    "ntc_ix = 7\n",
    "\n",
    "plot(xlabel=\"temperature [C]\",\n",
    "     ylabel=\"change in temperature [ΔC]\",\n",
    "     title =\"NTC#$(ntc_ix+1)\"\n",
    ")\n",
    "scatter!(fitx_m[ntc_ix,:], fitx_m[N+ntc_ix,:], markersize=100fitx_v[N+ntc_ix,:], alpha=0.3, color=\"blue\")\n",
    "plot!(sort(fitx_m[ntc_ix,:]), x -> h_pol[ntc_ix](x), color=\"blue\", linestyle=:dash, label=\"polynomial\")"
   ]
  },
  {
   "cell_type": "code",
   "execution_count": null,
   "metadata": {},
   "outputs": [],
   "source": [
    "ntc_ix = 8\n",
    "\n",
    "plot(xlabel=\"temperature [C]\",\n",
    "     ylabel=\"change in temperature [ΔC]\",\n",
    "     title =\"NTC#$(ntc_ix+1)\"\n",
    ")\n",
    "scatter!(fitx_m[ntc_ix,:], fitx_m[N+ntc_ix,:], markersize=100fitx_v[N+ntc_ix,:], alpha=0.3, color=\"blue\")\n",
    "plot!(sort(fitx_m[ntc_ix,:]), x -> h_pol[ntc_ix](x), color=\"blue\", linestyle=:dash, label=\"polynomial\")"
   ]
  },
  {
   "cell_type": "code",
   "execution_count": null,
   "metadata": {},
   "outputs": [],
   "source": [
    "ntc_ix = 9\n",
    "\n",
    "plot(xlabel=\"temperature [C]\",\n",
    "     ylabel=\"change in temperature [ΔC]\",\n",
    "     title =\"NTC#$(ntc_ix+1)\"\n",
    ")\n",
    "scatter!(fitx_m[ntc_ix,:], fitx_m[N+ntc_ix,:], markersize=100fitx_v[N+ntc_ix,:], alpha=0.3, color=\"blue\")\n",
    "plot!(sort(fitx_m[ntc_ix,:]), x -> h_pol[ntc_ix](x), color=\"blue\", linestyle=:dash, label=\"polynomial\")"
   ]
  },
  {
   "cell_type": "code",
   "execution_count": null,
   "metadata": {},
   "outputs": [],
   "source": [
    "ntc_ix = 10\n",
    "\n",
    "plot(xlabel=\"temperature [C]\",\n",
    "     ylabel=\"change in temperature [ΔC]\",\n",
    "     title =\"NTC#$(ntc_ix+1)\"\n",
    ")\n",
    "scatter!(fitx_m[ntc_ix,:], fitx_m[N+ntc_ix,:], markersize=100fitx_v[N+ntc_ix,:], alpha=0.3, color=\"orange\")\n",
    "plot!(sort(fitx_m[ntc_ix,:]), x -> h_pol[ntc_ix](x), color=\"orange\", linestyle=:dash, label=\"polynomial\")"
   ]
  },
  {
   "cell_type": "code",
   "execution_count": null,
   "metadata": {},
   "outputs": [],
   "source": [
    "ntc_ix = 11\n",
    "\n",
    "plot(xlabel=\"temperature [C]\",\n",
    "     ylabel=\"change in temperature [ΔC]\",\n",
    "     title =\"NTC#$(ntc_ix+1)\"\n",
    ")\n",
    "scatter!(fitx_m[ntc_ix,:], fitx_m[N+ntc_ix,:], markersize=100fitx_v[N+ntc_ix,:], alpha=0.3, color=\"orange\")\n",
    "plot!(sort(fitx_m[ntc_ix,:]), x -> h_pol[ntc_ix](x), color=\"orange\", linestyle=:dash, label=\"polynomial\")"
   ]
  },
  {
   "cell_type": "code",
   "execution_count": null,
   "metadata": {},
   "outputs": [],
   "source": [
    "ntc_ix = 12\n",
    "\n",
    "plot(xlabel=\"temperature [C]\",\n",
    "     ylabel=\"change in temperature [ΔC]\",\n",
    "     title =\"NTC#$(ntc_ix+1)\"\n",
    ")\n",
    "scatter!(fitx_m[ntc_ix,:], fitx_m[N+ntc_ix,:], markersize=100fitx_v[N+ntc_ix,:], alpha=0.3, color=\"orange\")\n",
    "plot!(sort(fitx_m[ntc_ix,:]), x -> h_pol[ntc_ix](x), color=\"orange\", linestyle=:dash, label=\"polynomial\")"
   ]
  },
  {
   "cell_type": "markdown",
   "metadata": {},
   "source": [
    "## Simulation"
   ]
  },
  {
   "cell_type": "code",
   "execution_count": null,
   "metadata": {},
   "outputs": [],
   "source": [
    "sim_temps  = zeros(T,Dt)\n",
    "id_nlconv = zeros(T,Dt)\n",
    "\n",
    "sim_temps[1,:] = dat[\"T0\"]\n",
    "for ii in 2:T\n",
    "\n",
    "    id_nlconv[ii,:] = [h_pol[k](sim_temps[ii-1,k]) for k in 1:12]\n",
    "\n",
    "    sim_temps[ii,:] = A[1:Dt,1:Dt]*sim_temps[ii-1,:] + B[1:Dt,:]*inputs_ss[ii,:] + Δt*inv(M)*id_nlconv[ii,:]\n",
    "end"
   ]
  },
  {
   "cell_type": "code",
   "execution_count": null,
   "metadata": {},
   "outputs": [],
   "source": [
    "SIM_MSE = mean( (sim_temps .- measurements_ss).^2 )"
   ]
  },
  {
   "cell_type": "code",
   "execution_count": null,
   "metadata": {},
   "outputs": [],
   "source": [
    "labelss = hcat([\"τ_$k simulated\" for k in NTCIX]...)\n",
    "\n",
    "plot(tsteps[2:vis_ss:end],\n",
    "     sim_temps[2:vis_ss:end,:],\n",
    "     legend = true, \n",
    "     linecolors = lcolors, \n",
    "     labels = labelss,\n",
    "     xlabel = \"tsteps [s]\", \n",
    "     ylabel = \"temperature [C]\",\n",
    "     size=(900,400),\n",
    "     title=\"MSE = $SIM_MSE\",\n",
    "     # xscale=:log10,\n",
    ")\n",
    "# plot!(tsteps[2:vis_ss:end], \n",
    "#       measurements_ss[2:vis_ss:end,:], \n",
    "#       alpha = 0.5,\n",
    "#       linecolors = lcolors, \n",
    "#       linestyle = :dash,\n",
    "# )"
   ]
  },
  {
   "cell_type": "code",
   "execution_count": null,
   "metadata": {},
   "outputs": [],
   "source": [
    "plot(tsteps[2:vis_ss:end] ./ 3600,\n",
    "     sim_temps[2:vis_ss:end,:] .- measurements_ss[2:vis_ss:end,:],\n",
    "     legend = true, \n",
    "     linecolors = lcolors, \n",
    "     # labels = labelss,\n",
    "     xlabel = \"time [h]\", \n",
    "     ylabel = \"simulations - measurements\",\n",
    "     size=(900,400),\n",
    "     title=\"MSE = $SIM_MSE\",\n",
    "     # xscale=:log10,\n",
    ")"
   ]
  },
  {
   "cell_type": "code",
   "execution_count": null,
   "metadata": {},
   "outputs": [],
   "source": [
    "jldsave(\"results/GPASSM.jld2\"; M,F,A,B,C,Q,R, measurements_ss, inputs_ss, tsteps, N, Δt, fitx_m, fitx_v, h_pol, λ_star, γ_star, sim_temps)"
   ]
  },
  {
   "cell_type": "code",
   "execution_count": null,
   "metadata": {},
   "outputs": [],
   "source": [
    "# matwrite(\"results/GP-SSM.mat\", \n",
    "#     Dict(\"A\" => A[1:Dt,1:Dt],\n",
    "#          \"B\" => B[1:Dt,:],\n",
    "#          \"Q\" => Q[1:Dt,1:Dt],\n",
    "#          \"h1_pol\"  => h_pol[1].coeffs,\n",
    "#          \"h2_pol\"  => h_pol[2].coeffs,\n",
    "#          \"h3_pol\"  => h_pol[3].coeffs,\n",
    "#          \"h4_pol\"  => h_pol[4].coeffs,\n",
    "#          \"h5_pol\"  => h_pol[5].coeffs,\n",
    "#          \"h6_pol\"  => h_pol[6].coeffs,\n",
    "#          \"h8_pol\"  => h_pol[7].coeffs,\n",
    "#          \"h9_pol\"  => h_pol[8].coeffs,\n",
    "#          \"h10_pol\" => h_pol[9].coeffs,\n",
    "#          \"h11_pol\" => h_pol[10].coeffs,\n",
    "#          \"h12_pol\" => h_pol[11].coeffs,\n",
    "#          \"h13_pol\" => h_pol[12].coeffs,\n",
    "#          \"pol_degree\" => deg,\n",
    "#          \"y_sim\" => sim_temp,\n",
    "#          \"Ts\" => Δt)\n",
    "# )"
   ]
  },
  {
   "cell_type": "code",
   "execution_count": null,
   "metadata": {},
   "outputs": [],
   "source": [
    "# matwrite(\"results/GP-SSM-inference.mat\", \n",
    "#     Dict(\"A\" => A,\n",
    "#          \"B\" => B,\n",
    "#          \"C\" => C,\n",
    "#          \"Q\" => Q,\n",
    "#          \"states_mean\" => fitx_m,\n",
    "#          \"states_vars\" => fitx_v,\n",
    "#          \"h1_pol\"  => h_pol[1].coeffs,\n",
    "#          \"h2_pol\"  => h_pol[2].coeffs,\n",
    "#          \"h3_pol\"  => h_pol[3].coeffs,\n",
    "#          \"h4_pol\"  => h_pol[4].coeffs,\n",
    "#          \"h5_pol\"  => h_pol[5].coeffs,\n",
    "#          \"h6_pol\"  => h_pol[6].coeffs,\n",
    "#          \"h8_pol\"  => h_pol[7].coeffs,\n",
    "#          \"h9_pol\"  => h_pol[8].coeffs,\n",
    "#          \"h10_pol\" => h_pol[9].coeffs,\n",
    "#          \"h11_pol\" => h_pol[10].coeffs,\n",
    "#          \"h12_pol\" => h_pol[11].coeffs,\n",
    "#          \"h13_pol\" => h_pol[12].coeffs,\n",
    "#          \"pol_degree\" => deg,\n",
    "#          \"y_sim\" => sim_temp,\n",
    "#          \"Ts\" => Δt)\n",
    "# )"
   ]
  },
  {
   "cell_type": "code",
   "execution_count": null,
   "metadata": {},
   "outputs": [],
   "source": []
  }
 ],
 "metadata": {
  "jupytext": {
   "formats": "ipynb,md"
  },
  "kernelspec": {
   "display_name": "Julia 1.9.3",
   "language": "julia",
   "name": "julia-1.9"
  },
  "language_info": {
   "file_extension": ".jl",
   "mimetype": "application/julia",
   "name": "julia",
   "version": "1.9.3"
  }
 },
 "nbformat": 4,
 "nbformat_minor": 2
}
