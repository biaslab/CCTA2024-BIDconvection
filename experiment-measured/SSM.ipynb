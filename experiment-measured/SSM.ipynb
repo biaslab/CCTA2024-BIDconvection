{
 "cells": [
  {
   "cell_type": "markdown",
   "metadata": {},
   "source": [
    "# White-box identification with state-space model\n",
    "\n",
    "Last update: 17-10-2023\n",
    "\n",
    "---\n",
    "\n",
    "The goal of this project is to identify dynamics in a grey-box model of a thermal setup (see system description below), based on temperature measurements at specific locations on the system. Parameters include conductance and linear convection."
   ]
  },
  {
   "cell_type": "code",
   "execution_count": null,
   "metadata": {},
   "outputs": [],
   "source": [
    "import Pkg\n",
    "Pkg.activate(\"../..\")\n",
    "Pkg.instantiate();"
   ]
  },
  {
   "cell_type": "markdown",
   "metadata": {},
   "source": [
    "## System description\n",
    "\n",
    "A schematic depiction of the setup is shown in the figure below. \n",
    "\n",
    "<p><center><img src='../../system/system-photo.png'/></center></p>\n",
    "\n",
    "In short, the setup consists of 3 metal blocks which have been lined up, with resistive nylon pads interposed. The temperature can be measured using thermistors at arbitrary places on the setup; for simplicity we assume that we measure the temperature at a single spot on each block, which we call $\\tau_1$, $\\tau_2$, and $\\tau_3$. The temperatures will evolve due to a number of different factors; we will only consider the influence of conduction, convection, radiation, and the user controlled input heat (band heaters).\n",
    "\n",
    "By assuming that conduction within blocks is so fast that there are no temperature differences within a block, we may model the system using a [lumped-element model](https://en.wikipedia.org/wiki/Lumped-element_model), governed by the following system of ODEs:\n",
    "\n",
    "$$\\frac{d}{dt}\\begin{pmatrix} m_1 c_{p, 1} \\tau_1 \\\\ m_2 c_{p, 2} \\tau_2 \\\\ m_3 c_{p, 3} \\tau_3 \\end{pmatrix} = \n",
    "\\underbrace{\\begin{pmatrix} -k_{12} & k_{12} & 0 \\\\ k_{12} & -(k_{12} + k_{23}) & k_{23} \\\\ 0 & k_{23} & -k_{23} \\end{pmatrix} \\begin{pmatrix} \\tau_1 \\\\ \\tau_2 \\\\ \\tau_3 \\end{pmatrix}}_{\\textrm{conduction}} + \\underbrace{\\begin{pmatrix} h(\\tau_1, \\tau_a, 1, t) \\\\ h(\\tau_2, \\tau_a, 2, t) \\\\ h(\\tau_3, \\tau_a, 3, t) \\end{pmatrix}}_{\\textrm{convection}} + \\underbrace{\\sigma \\begin{pmatrix} a_1 \\varepsilon_1 (\\tau_a^4 - \\tau_1^4) \\\\ a_2 \\varepsilon_2 (\\tau_a^4 - \\tau_2^4) \\\\ a_3 \\varepsilon_3 (\\tau_a^4 - \\tau_3^4) \\end{pmatrix}}_{\\textrm{radiation}} + \\underbrace{\\begin{pmatrix} u_1 \\\\ u_2 \\\\ u_3 \\end{pmatrix}}_{\\textrm{input}}.$$\n",
    "\n",
    "Convection is notoriously hard to model. A coarse approximation would be Newton's law of cooling (Clercx, 2015; Eq. 8.17), which states that convection is linear in the difference between the temperature of the block and the ambient temperature: $h_a (\\tau_a - \\tau_i)$. With this linear term, we can take steps similar to the identification of the oscillator in Rogers \\& Friis (2022), describing the nonlinear function as the combination of a linear term and a \"nonlinear remainder\":\n",
    "\n",
    "$$\\underbrace{h(\\tau_i, \\tau_a, i, t)}_{\\text{total convection}} = \\underbrace{h_a (\\tau_a - \\tau_i)}_{\\text{linear cooling law}} + \\underbrace{r(\\tau_i, \\tau_a, i, t)}_{\\text{nonlinear remainder}} \\, ,$$\n",
    "\n",
    "for some constant $h_a$. Furthermore, the role of radiation can often be neglected. \n",
    "\n",
    "We can absorb the ambient temperature into the input vector and the linear convection term into the state vector. Now, the governing equations become:\n",
    "\n",
    "$$\\begin{aligned}\n",
    "\\begin{bmatrix} \\dot{\\tau}_1 \\\\ \\vdots \\\\ \\dot{\\tau}_3 \\end{bmatrix} = \\begin{bmatrix} \\frac{-k_{12} - h_a a_1}{m_1 c_{p,1}} & \\frac{k_{12}}{m_1 c_{p,1}} & 0 \\\\\n",
    "\\frac{k_{12}}{m_2 c_{p,2}} & \\frac{-k_{12} - k_{23} - h_a a_2}{m_2 c_{p,2}} & \\frac{k_{23}}{m_2 c_{p,2}} \\\\\n",
    " 0 & \\frac{k_{23}}{m_3 c_{p,3}} & \\frac{-k_{23} - h_a a_3}{m_3 c_{p,3}} \\end{bmatrix} \\begin{bmatrix} \\tau_1 \\\\ \\vdots \\\\ \\tau_3 \\end{bmatrix} + \\begin{bmatrix} r(\\tau_1, \\tau_a, 1, t) \\\\ r(\\tau_2, \\tau_a, 2, t) \\\\ r(\\tau_3, \\tau_a, 3, t) \\end{bmatrix} + \\begin{bmatrix} \\frac{h_a a_1}{m_1 c_{p,1}} & \\frac{1}{m_1 c_{p,1}} & 0 & 0 \\\\ \\frac{h_a a_2}{m_2 c_{p,2}} & 0 & \\frac{1}{m_2 c_{p,2}} & 0 \\\\ \\frac{h_a a_3}{m_3 c_{p,3}} & 0 & 0 & \\frac{1}{m_3 c_{p,3}} \\end{bmatrix} \\begin{bmatrix} \\tau_a \\\\ u_1 \\\\ u_2 \\\\ u_3 \\end{bmatrix}  \\, .\n",
    "\\end{aligned}$$\n",
    "\n",
    "In these equations, we can distinguish three types of quantities:\n",
    "1. Measured/observed quantities: e.g. $\\tau_a$, $\\tau_i$, $u_i$. These may vary over time, and are known up to a given accuracy due to measurement noise;\n",
    "\n",
    "2. Known constants: e.g. $m_i$, $c_{p, i}$, $a$. These are fully known, and are constant over time. This is reasonable for quantities such as mass $m$ and surface area $a$ (which can be easily measured) and specific heat capacity $c_p$;\n",
    "\n",
    "3. Unknown constants: e.g. $k_{ij}$, $h_a$. Yhere is no simple physical way to measure or derive their values. For example, the conduction coefficients $k_{ij}$ can vary depending on how tightly the blocks have been put together. In this project, we want to identify these constants using Bayesian inference."
   ]
  },
  {
   "cell_type": "code",
   "execution_count": null,
   "metadata": {},
   "outputs": [],
   "source": [
    "using Revise\n",
    "using RxInfer\n",
    "using Random\n",
    "using MAT\n",
    "using Optim\n",
    "using ControlSystems\n",
    "using Polynomials\n",
    "using BlockDiagonals\n",
    "using DifferentialEquations\n",
    "using Distributions\n",
    "using LinearAlgebra\n",
    "using Plots; default(label=\"\", linewidth=3, margin=15Plots.pt)\n",
    "\n",
    "include(\"../../util/visualizations.jl\")\n",
    "include(\"../../util/util.jl\")"
   ]
  },
  {
   "cell_type": "markdown",
   "metadata": {},
   "source": [
    "## Load data"
   ]
  },
  {
   "cell_type": "code",
   "execution_count": null,
   "metadata": {},
   "outputs": [],
   "source": [
    "dat = matread(\"data\\\\2023\\\\data\\\\2julia.mat\")"
   ]
  },
  {
   "cell_type": "code",
   "execution_count": null,
   "metadata": {},
   "outputs": [],
   "source": [
    "# Sensors per block\n",
    "Ns = convert.(Int64, dat[\"N\"])\n",
    "N = sum(Ns)\n",
    "\n",
    "# Sensor 7 is broken\n",
    "NTCIX = [1:6; 8:13];\n",
    "measurements = hcat([dat[\"NTC$k\"] for k in NTCIX]...)\n",
    "inputs = dat[\"u\"]; # First column is ambient"
   ]
  },
  {
   "cell_type": "code",
   "execution_count": null,
   "metadata": {},
   "outputs": [],
   "source": [
    "# Time parameters\n",
    "Ts = dat[\"Ts\"]\n",
    "tmax = convert(Int64, dat[\"tmax\"]);\n",
    "\n",
    "# Subsample\n",
    "ssix = 1\n",
    "Δt = Ts*ssix\n",
    "time = range(0.0, step=Δt, stop=tmax-1)\n",
    "T = length(time);"
   ]
  },
  {
   "cell_type": "code",
   "execution_count": null,
   "metadata": {},
   "outputs": [],
   "source": [
    "inputs_ss = inputs[1:ssix:tmax,:]\n",
    "measurements_ss = measurements[1:ssix:tmax,:];"
   ]
  },
  {
   "cell_type": "code",
   "execution_count": null,
   "metadata": {},
   "outputs": [],
   "source": [
    "lcolors = hcat([repeat([\"red\"], Ns[1]); repeat([\"blue\"], Ns[2]); repeat([\"orange\"], Ns[3])]...)\n",
    "labelsm = hcat([\"τ_$k measured\" for k in NTCIX]...)\n",
    "\n",
    "vis_ss = 1_000\n",
    "\n",
    "plt1 = plot(time[2:vis_ss:end], \n",
    "            measurements_ss[2:vis_ss:end,:],\n",
    "            linecolors = lcolors, \n",
    "            labels = labelsm,\n",
    "#             xscale=:log10,\n",
    "            legend=:topleft,\n",
    "            xlabel=\"time (s)\",\n",
    "            ylabel=\"temp (C)\")\n",
    "plt2 = plot(time[2:vis_ss:end], \n",
    "inputs_ss[2:vis_ss:end, 2:end],\n",
    "            ylabel=\"input heat (W)\")\n",
    "plot(plt1,plt2, layout=(2,1), size=(900,800))"
   ]
  },
  {
   "cell_type": "code",
   "execution_count": null,
   "metadata": {},
   "outputs": [],
   "source": [
    "mcps = dat[\"Mcps\"]         # Mass heat capacity\n",
    "gc   = dat[\"gc\"]           # Base conduction of blocks\n",
    "Ac   = dat[\"Ac\"]           # Cross-section surfaces (m2)\n",
    "An   = dat[\"An\"]           # Outer surface areas (m2)\n",
    "l    = dat[\"l\"]            # Lengths\n",
    "lpl  = dat[\"l_pom_left\"]\n",
    "lpr  = dat[\"l_pom_right\"]\n",
    "\n",
    "An_ = vcat([repeat([An[k]], Ns[k]) for k in 1:3]...)\n",
    "M   = diagm(vcat([repeat([mcps[k]], Ns[k]) for k in 1:3]...))"
   ]
  },
  {
   "cell_type": "markdown",
   "metadata": {},
   "source": [
    "## Maximum likelihood of conductance parameters and linear convection\n"
   ]
  },
  {
   "cell_type": "markdown",
   "metadata": {},
   "source": [
    "Let $x = [\\tau_1 \\ \\tau_2 \\ \\tau_3]$ and $u = [\\tau_a \\ u_1 \\ \\dots \\ u_3]$. If we ignore the nonlinear convection term, we have:\n",
    "\n",
    "$$\\begin{aligned}\n",
    "\\begin{bmatrix} \\dot{\\tau}_1 \\\\ \\vdots \\\\ \\dot{\\tau}_3 \\end{bmatrix} = \\underbrace{\\begin{bmatrix} \\frac{-k_{12} - h_a a_1}{m_1 c_{p,1}} & \\frac{k_{12}}{m_1 c_{p,1}} & 0 \\\\\n",
    "\\frac{k_{12}}{m_2 c_{p,2}} & \\frac{-k_{12} - k_{23} - h_a a_2}{m_2 c_{p,2}} & \\frac{k_{23}}{m_2 c_{p,2}} \\\\\n",
    " 0 & \\frac{k_{23}}{m_3 c_{p,3}} & \\frac{-k_{23} - h_a a_3}{m_3 c_{p,3}} \\end{bmatrix}}_{F} \\begin{bmatrix} \\tau_1 \\\\ \\vdots \\\\ \\tau_3 \\end{bmatrix} + \\underbrace{\\begin{bmatrix} \\frac{h_a a_1}{m_1 c_{p,1}} & \\frac{1}{m_1 c_{p,1}} & 0 & 0 \\\\ \\frac{h_a a_2}{m_2 c_{p,2}} & 0 & \\frac{1}{m_2 c_{p,2}} & 0 \\\\ \\frac{h_a a_3}{m_3 c_{p,3}} & 0 & 0 & \\frac{1}{m_3 c_{p,3}} \\end{bmatrix}}_{G} \\begin{bmatrix} \\tau_a \\\\ u_1 \\\\ u_2 \\\\ u_3 \\end{bmatrix}  \\, .\n",
    "\\end{aligned}$$\n",
    "\n",
    "We discretize this using a forward Euler procedure and inject a tiny bit of zero-mean Gaussian noise:\n",
    "\n",
    "$$\\begin{aligned}\n",
    "x_{k+1} = A x_k + B u_k + w_k\\, , \\quad \\text{with}\\ w_k \\sim \\mathcal{N}(0, Q) \\, ,\n",
    "\\end{aligned}$$\n",
    "\n",
    "where\n",
    "\n",
    "$$\\begin{aligned}\n",
    "    A = (I + \\Delta t F \\big) \\, , \\quad B = \\Delta t G \\, , \\quad Q = \\epsilon I \\, .\n",
    "\\end{aligned}$$\n",
    "\n",
    "Finally, we have noisy measurements of temperatures:\n",
    "$$\\begin{aligned}\n",
    "y_{k} = x_k + v_k\\, , \\quad \\text{with}\\ v_k \\sim \\mathcal{N}(0, R) \\, .\n",
    "\\end{aligned}$$"
   ]
  },
  {
   "cell_type": "code",
   "execution_count": null,
   "metadata": {},
   "outputs": [],
   "source": [
    "@model function SSM(A, B, C, Q, R, m0, S0; T=1)\n",
    "    \n",
    "    x = randomvar(T)\n",
    "    u = datavar(Vector{Float64}, T)\n",
    "    y = datavar(Vector{Float64}, T)\n",
    "    \n",
    "    x_0 ~ MvNormalMeanCovariance(m0, S0)\n",
    "    x_kmin1 = x_0\n",
    "    for k = 1:T\n",
    "        \n",
    "        x[k] ~ MvNormalMeanCovariance(A*x_kmin1 + B*u[k], Q)\n",
    "        y[k] ~ MvNormalMeanCovariance(C*x[k], R)\n",
    "        \n",
    "        x_kmin1 = x[k]\n",
    "    end\n",
    "end"
   ]
  },
  {
   "cell_type": "code",
   "execution_count": null,
   "metadata": {},
   "outputs": [],
   "source": [
    "Dx = 12\n",
    "Du = 13\n",
    "Dy = 12\n",
    "C    = diagm(ones(Dy))\n",
    "Q    = 1e-4*diagm(ones(Dx))\n",
    "R    = diagm(1e-6*ones(Dy))        \n",
    "S0   = diagm(1e-6*ones(Dx))\n",
    "m0   = measurements_ss[1,:];"
   ]
  },
  {
   "cell_type": "code",
   "execution_count": null,
   "metadata": {},
   "outputs": [],
   "source": [
    "output_ = [measurements_ss[k,:] for k in 1:T];\n",
    "inputs_ = [inputs_ss[k,:] for k in 1:T];"
   ]
  },
  {
   "cell_type": "code",
   "execution_count": null,
   "metadata": {},
   "outputs": [],
   "source": [
    "function J(θ::AbstractVector)\n",
    "    \"θ = [k_12, k_23, h_a]\"\n",
    "    \n",
    "    K = conductances(θ, Ns, An, gc, [lpl, lpr])\n",
    "    A = inv(M)*K\n",
    "    \n",
    "    B = Δt*inv(M)*[θ[3]*An_ diagm(ones(N))]\n",
    "    \n",
    "    results = inference(\n",
    "        model       = SSM(A, B, C, Q, R, m0,S0, T=T),\n",
    "        data        = (y = output_, u = inputs_),\n",
    "        options     = (limit_stack_depth = 100,),\n",
    "        free_energy = true\n",
    "    )      \n",
    "    return results.free_energy[end]    \n",
    "end"
   ]
  },
  {
   "cell_type": "code",
   "execution_count": null,
   "metadata": {},
   "outputs": [],
   "source": [
    "# ops = Optim.Options(g_tol=1e-8, time_limit=30.0, show_every=1)\n",
    "# res = optimize(J, 0.0, 10.0, 3*ones(3), Fminbox(LBFGS()), ops; autodiff=:forward)"
   ]
  },
  {
   "cell_type": "code",
   "execution_count": null,
   "metadata": {},
   "outputs": [],
   "source": [
    "# k_12,k_23,h_a = Optim.minimizer(res)\n",
    "k_12, k_23, h_a = dat[\"xoptimal\"]"
   ]
  },
  {
   "cell_type": "code",
   "execution_count": null,
   "metadata": {},
   "outputs": [],
   "source": [
    "K = conductances([k_12,k_12,h_a], Ns, An, gc, [lpl, lpr])\n",
    "A = exp(Δt*inv(M)*K)\n",
    "B = Δt*inv(M)*[h_a*An_ diagm(ones(N))]\n",
    "    \n",
    "results = inference(\n",
    "    model       = SSM(A, B, C, Q, R, m0, S0, T=T),\n",
    "    data        = (y = output_, u = inputs_),\n",
    "    options     = (limit_stack_depth = 100,),\n",
    ")"
   ]
  },
  {
   "cell_type": "code",
   "execution_count": null,
   "metadata": {},
   "outputs": [],
   "source": [
    "qx = results.posteriors[:x]\n",
    "fitx_v = hcat( var.(qx)...)\n",
    "fitx_m = hcat(mean.(qx)...)"
   ]
  },
  {
   "cell_type": "code",
   "execution_count": null,
   "metadata": {},
   "outputs": [],
   "source": [
    "labelsf = hcat([\"τ_$k fit\" for k in NTCIX]...)\n",
    "\n",
    "plot(time[2:vis_ss:end],\n",
    "     fitx_m[:,2:vis_ss:end]';\n",
    "     ribbon=sqrt.(fitx_v[:,2:vis_ss:end])',\n",
    "     legend = :topleft, \n",
    "     linecolors = lcolors, \n",
    "     labels = labelsf,\n",
    "     xlabel = \"time [s]\", \n",
    "     ylabel = \"temperature [C]\",\n",
    "     size=(900,400)\n",
    ")\n",
    "plot!(time[2:vis_ss:end], \n",
    "      measurements_ss[2:vis_ss:end,:], \n",
    "      alpha = 0.3,\n",
    "      linestyle = :dash,\n",
    "      linecolors = lcolors, \n",
    "#       labels = labelsm,\n",
    "#       xscale=:log10,\n",
    ")"
   ]
  },
  {
   "cell_type": "code",
   "execution_count": null,
   "metadata": {},
   "outputs": [],
   "source": [
    "savefig(\"figures/validation-ML-SSM-states.png\")"
   ]
  },
  {
   "cell_type": "markdown",
   "metadata": {},
   "source": [
    "## Simulation"
   ]
  },
  {
   "cell_type": "code",
   "execution_count": null,
   "metadata": {},
   "outputs": [],
   "source": [
    "# sys = ss(A,B,C,zeros(Dx,Du))\n",
    "# sims = lsim(sys, inputs_ss', time, x0=dat[\"T0\"]', method=:zoh);"
   ]
  },
  {
   "cell_type": "code",
   "execution_count": null,
   "metadata": {},
   "outputs": [],
   "source": [
    "sims  = zeros(T,Dx)\n",
    "sims[1,:] = dat[\"T0\"]\n",
    "for ii in 2:T\n",
    "    sims[ii,:] = A*sims[ii-1,:] + B*inputs_ss[ii,:]\n",
    "end"
   ]
  },
  {
   "cell_type": "code",
   "execution_count": null,
   "metadata": {},
   "outputs": [],
   "source": [
    "SIM_MSE = mean( (sims - measurements_ss).^2 )"
   ]
  },
  {
   "cell_type": "code",
   "execution_count": null,
   "metadata": {},
   "outputs": [],
   "source": [
    "labelss = hcat([\"τ_$k simulated\" for k in NTCIX]...)\n",
    "\n",
    "plot(time[2:vis_ss:end],\n",
    "     sims[2:vis_ss:end,:],\n",
    "     legend = true, \n",
    "     linecolors = lcolors, \n",
    "     labels = labelss,\n",
    "     xlabel = \"time [s]\", \n",
    "     ylabel = \"temperature [C]\",\n",
    "     size=(900,400),\n",
    "     title=\"MSE = $SIM_MSE\",\n",
    ")\n",
    "plot!(time[2:vis_ss:end], \n",
    "      measurements_ss[2:vis_ss:end,:], \n",
    "      alpha = 0.5,\n",
    "      linecolors = lcolors, \n",
    "      linestyle = :dash,\n",
    ")"
   ]
  },
  {
   "cell_type": "code",
   "execution_count": null,
   "metadata": {},
   "outputs": [],
   "source": [
    "savefig(\"figures/validation_ML-SSM-simulations.png\")"
   ]
  },
  {
   "cell_type": "code",
   "execution_count": null,
   "metadata": {},
   "outputs": [],
   "source": [
    "matwrite(\"results/ML-SSM.mat\", \n",
    "    Dict(\"A\" => A,\n",
    "         \"B\" => B,\n",
    "         \"Q\" => Q,\n",
    "         \"y_sim\" => sims[1],\n",
    "         \"Ts\" => Δt);\n",
    ")"
   ]
  },
  {
   "cell_type": "code",
   "execution_count": null,
   "metadata": {},
   "outputs": [],
   "source": []
  }
 ],
 "metadata": {
  "jupytext": {
   "formats": "ipynb,md"
  },
  "kernelspec": {
   "display_name": "Julia 1.9.3",
   "language": "julia",
   "name": "julia-1.9"
  },
  "language_info": {
   "file_extension": ".jl",
   "mimetype": "application/julia",
   "name": "julia",
   "version": "1.9.3"
  }
 },
 "nbformat": 4,
 "nbformat_minor": 2
}
